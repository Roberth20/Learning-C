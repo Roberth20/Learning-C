{
 "cells": [
  {
   "cell_type": "code",
   "execution_count": 1,
   "id": "993a1d2a-22f1-4edc-92c1-e64849ed2db3",
   "metadata": {},
   "outputs": [
    {
     "name": "stdout",
     "output_type": "stream",
     "text": [
      "some output\n"
     ]
    },
    {
     "name": "stderr",
     "output_type": "stream",
     "text": [
      "some error\n"
     ]
    },
    {
     "ename": "Standard Exception",
     "evalue": "Unknown Exception",
     "output_type": "error",
     "traceback": [
      "Standard Exception: Unknown Exception"
     ]
    }
   ],
   "source": [
    "#include <iostream>\n",
    "std::cout << \"some output\" << std::endl;\n",
    "std::cerr << \"some error\" << std::endl;\n",
    "\n",
    "#include <stdexcept>\n",
    "throw std::runtime_error(\"Unknown Exception\");"
   ]
  },
  {
   "cell_type": "code",
   "execution_count": 3,
   "id": "f3650041-2c73-4525-960d-70d6759db935",
   "metadata": {},
   "outputs": [],
   "source": [
    "using namespace std;"
   ]
  },
  {
   "cell_type": "markdown",
   "id": "361e4d97-c86c-4a5f-94b2-fc6658fd414f",
   "metadata": {},
   "source": [
    "### Suma de dos numeros ingresados"
   ]
  },
  {
   "cell_type": "code",
   "execution_count": 4,
   "id": "865e6d88-507a-446b-a021-29fe975f5acd",
   "metadata": {},
   "outputs": [],
   "source": [
    "#include <stdio.h>\n",
    "\n",
    "int main(){\n",
    "    int n = 0;\n",
    "    int m = 0;\n",
    "    \n",
    "    printf(\"Ingrese un entero: \\t\");\n",
    "    cin >> n; /* scanf(\"%d\", &n)*/\n",
    "    printf(\"Ingrese un entero: \\t\");\n",
    "    cin >> m; /* scanf(\"%d\", &n)*/\n",
    "    \n",
    "    printf(\"%d + %d = %d\", n, m, n+m);\n",
    "}"
   ]
  },
  {
   "cell_type": "code",
   "execution_count": 5,
   "id": "6269155a-bb61-4f12-a1f2-772a9552cb7d",
   "metadata": {},
   "outputs": [
    {
     "name": "stdout",
     "output_type": "stream",
     "text": [
      "Ingrese un entero: \t"
     ]
    },
    {
     "name": "stdin",
     "output_type": "stream",
     "text": [
      " 5\n"
     ]
    },
    {
     "name": "stdout",
     "output_type": "stream",
     "text": [
      "Ingrese un entero: \t"
     ]
    },
    {
     "name": "stdin",
     "output_type": "stream",
     "text": [
      " 2\n"
     ]
    },
    {
     "name": "stdout",
     "output_type": "stream",
     "text": [
      "5 + 2 = 7"
     ]
    }
   ],
   "source": [
    "int n = 0;\n",
    "int m = 0;\n",
    "\n",
    "printf(\"Ingrese un entero: \\t\");\n",
    "cin >> n;\n",
    "printf(\"Ingrese un entero: \\t\");\n",
    "cin >> m;\n",
    "\n",
    "printf(\"%d + %d = %d\", n, m, n+m);"
   ]
  },
  {
   "cell_type": "markdown",
   "id": "dbc8edf0-ccfa-4fd8-8750-4b6fef16701d",
   "metadata": {},
   "source": [
    "### Producto de dos numeros"
   ]
  },
  {
   "cell_type": "code",
   "execution_count": 6,
   "id": "df16b72d-6bcd-43c7-8ffa-bca913cf6715",
   "metadata": {},
   "outputs": [],
   "source": [
    "# include <stdio.h>\n",
    "\n",
    "int main() {\n",
    "    int n = 0;\n",
    "    int m = 0;\n",
    "    \n",
    "    printf(\"Ingrese un numero entero:\\t\");\n",
    "    scanf(\"%d\", &n);\n",
    "    printf(\"Ingrese un numeroentero:\\t\");\n",
    "    scanf(\"%d\", &m);\n",
    "    \n",
    "    return printf(\"%d * %d = %d\", n, m, n*m);\n",
    "}"
   ]
  },
  {
   "cell_type": "code",
   "execution_count": 7,
   "id": "abd7e62e-366a-4230-94f1-43cb30a4defc",
   "metadata": {},
   "outputs": [
    {
     "name": "stdout",
     "output_type": "stream",
     "text": [
      "Ingrese un numero entero:\t"
     ]
    },
    {
     "name": "stdin",
     "output_type": "stream",
     "text": [
      " 5\n"
     ]
    },
    {
     "name": "stdout",
     "output_type": "stream",
     "text": [
      "Ingrese un numero entero:\t"
     ]
    },
    {
     "name": "stdin",
     "output_type": "stream",
     "text": [
      " 2\n"
     ]
    },
    {
     "name": "stdout",
     "output_type": "stream",
     "text": [
      "5*2=10"
     ]
    }
   ],
   "source": [
    "int n = 0;\n",
    "int m = 0;\n",
    "\n",
    "cout << \"Ingrese un numero entero:\\t\"; /*printf(\"Ingrese un numero entero:\\t\");*/\n",
    "cin >> n; /*scanf(\"%d\", &n);*/\n",
    "cout << \"Ingrese un numero entero:\\t\"; /*printf(\"Ingrese un numero entero:\\t\");*/\n",
    "cin >> m; /*scanf(\"%d\", &m);*/\n",
    "\n",
    "cout << n << \"*\" << m << \"=\" << n*m;"
   ]
  },
  {
   "cell_type": "markdown",
   "id": "e9c9f7a2-fd49-4003-804e-2baae713ba8a",
   "metadata": {},
   "source": [
    "### Numero mayor al ingresado"
   ]
  },
  {
   "cell_type": "code",
   "execution_count": 8,
   "id": "86c67168-4610-409f-88f6-c32397a9b715",
   "metadata": {},
   "outputs": [],
   "source": [
    "# include <stdio.h>\n",
    "\n",
    "int main() {\n",
    "    int n = 0;\n",
    "    \n",
    "    printf(\"Ingrese un numero entero:\\t\");\n",
    "    scanf(\"%d\", &n);\n",
    "    \n",
    "    return printf(\"El siguiente es %d\", n + 1);\n",
    "}"
   ]
  },
  {
   "cell_type": "code",
   "execution_count": 9,
   "id": "9464bc30-be18-4838-9c16-a2afb8e3ed4d",
   "metadata": {},
   "outputs": [
    {
     "name": "stdout",
     "output_type": "stream",
     "text": [
      "Ingrese un numero entero:\t"
     ]
    },
    {
     "name": "stdin",
     "output_type": "stream",
     "text": [
      " 6\n"
     ]
    },
    {
     "name": "stdout",
     "output_type": "stream",
     "text": [
      "El siguiente es 7"
     ]
    }
   ],
   "source": [
    "int n = 0;\n",
    "\n",
    "cout << \"Ingrese un numero entero:\\t\"; /*printf(\"Ingrese un numero entero:\\t\");*/\n",
    "cin >> n; /*scanf(\"%d\", &n);*/\n",
    "\n",
    "printf(\"El siguiente es %d\", n + 1);"
   ]
  },
  {
   "cell_type": "markdown",
   "id": "98dca802-06e0-4704-8355-aa0a17d702e4",
   "metadata": {},
   "source": [
    "### El numero anterior"
   ]
  },
  {
   "cell_type": "code",
   "execution_count": 10,
   "id": "c573ef17-933f-4b42-ae99-54eed33a40c3",
   "metadata": {},
   "outputs": [],
   "source": [
    "# include <stdio.h>\n",
    "\n",
    "int main() {\n",
    "    int n = 0;\n",
    "    \n",
    "    printf(\"Ingrese un numero entero:\\t\");\n",
    "    scanf(\"%d\", &n);\n",
    "    \n",
    "    return printf(\"El anterior es %d\", n - 1);\n",
    "}"
   ]
  },
  {
   "cell_type": "code",
   "execution_count": 11,
   "id": "c8d1b2e7-1408-48a2-aa56-28cafeebab40",
   "metadata": {},
   "outputs": [
    {
     "name": "stdout",
     "output_type": "stream",
     "text": [
      "Ingrese un numero entero:\t"
     ]
    },
    {
     "name": "stdin",
     "output_type": "stream",
     "text": [
      " 7\n"
     ]
    },
    {
     "name": "stdout",
     "output_type": "stream",
     "text": [
      "El anterior es 6"
     ]
    }
   ],
   "source": [
    "int n = 0;\n",
    "\n",
    "cout << \"Ingrese un numero entero:\\t\"; /*printf(\"Ingrese un numero entero:\\t\");*/\n",
    "cin >> n; /*scanf(\"%d\", &n);*/\n",
    "\n",
    "printf(\"El anterior es %d\", n - 1);"
   ]
  },
  {
   "cell_type": "markdown",
   "id": "806b4709-ee16-4c61-b0cf-1c0abcfa6559",
   "metadata": {},
   "source": [
    "### Area y perimetro de un rectangulo\n",
    "El area recordamos que sigue la ecuacion $$A = b\\cdot h$$ Y el perimetro $$P = 2\\cdot b + 2\\cdot h$$"
   ]
  },
  {
   "cell_type": "code",
   "execution_count": 12,
   "id": "1a74dbf9-5966-42a9-a7a8-49259a5e6ab0",
   "metadata": {},
   "outputs": [],
   "source": [
    "# include <stdio.h>\n",
    "\n",
    "int main(){\n",
    "    int b = 0;\n",
    "    int h = 0;\n",
    "    \n",
    "    printf(\"Ingrese la base:\");\n",
    "    scanf(\"%d\", &b);\n",
    "    printf(\"Ingrese la altura:\");\n",
    "    scanf(\"%d\", &h);\n",
    "    \n",
    "    printf(\"El area es: %d\", b*h);\n",
    "    printf(\"El perimetro es: %d\", (2*b) + (2*h));\n",
    "}"
   ]
  },
  {
   "cell_type": "code",
   "execution_count": 13,
   "id": "e03f88ec-b193-47ed-93bb-88c4e345af22",
   "metadata": {},
   "outputs": [
    {
     "name": "stdout",
     "output_type": "stream",
     "text": [
      "Ingrese la base:"
     ]
    },
    {
     "name": "stdin",
     "output_type": "stream",
     "text": [
      " 2\n"
     ]
    },
    {
     "name": "stdout",
     "output_type": "stream",
     "text": [
      "Ingrese la altura"
     ]
    },
    {
     "name": "stdin",
     "output_type": "stream",
     "text": [
      " 4\n"
     ]
    },
    {
     "name": "stdout",
     "output_type": "stream",
     "text": [
      "El area es: 8 \n",
      "El perimetro es: 12"
     ]
    }
   ],
   "source": [
    "int b = 0;\n",
    "int h = 0;\n",
    "    \n",
    "cout << \"Ingrese la base:\";  /*printf(\"Ingrese la base:\");*/\n",
    "cin >> b;  /*scanf(\"%d\", &b);*/\n",
    "cout << \"Ingrese la altura\";   /*printf(\"Ingrese la altura:\");*/\n",
    "cin >> h;    /*scanf(\"%d\", &h);*/\n",
    "    \n",
    "printf(\"El area es: %d \\n\", b*h);\n",
    "printf(\"El perimetro es: %d\", (2*b) + (2*h));"
   ]
  },
  {
   "cell_type": "markdown",
   "id": "0f1e1bf9-7119-4bf7-9423-cbf225bd4e66",
   "metadata": {},
   "source": [
    "### Area y perimetro triangulo\n",
    "El area recordamos que sigue la ecuacion $$A = \\frac{b\\cdot h}{2}$$ Y el perimetro depende del tipo de triangulo, trabajaremos con triangulo rectangulo $$P = b + h + \\sqrt(b^2 + h^2)$$"
   ]
  },
  {
   "cell_type": "code",
   "execution_count": 14,
   "id": "40fd544a-4dfd-4863-a16d-1ac9782a869e",
   "metadata": {},
   "outputs": [],
   "source": [
    "# include <stdio.h>\n",
    "# include <cmath>\n",
    "\n",
    "int main(){\n",
    "    int b = 0;\n",
    "    int h = 0;\n",
    "    float c = 0;\n",
    "    \n",
    "    printf(\"Ingrese la base:\");\n",
    "    scanf(\"%d\", &b);\n",
    "    printf(\"Ingrese la altura:\");\n",
    "    scanf(\"%d\", &h);\n",
    "    \n",
    "    printf(\"El area es: %f\", (float)(b*h)/2);\n",
    "    c = sqrt(pow(b, 2) + pow(h, 2));\n",
    "    printf(\"El perimetro es: %f\", b + h + c);\n",
    "}"
   ]
  },
  {
   "cell_type": "code",
   "execution_count": 15,
   "id": "2fd5df15-722c-4491-81ed-a983211b1eab",
   "metadata": {},
   "outputs": [
    {
     "name": "stdout",
     "output_type": "stream",
     "text": [
      "Ingrese la base:"
     ]
    },
    {
     "name": "stdin",
     "output_type": "stream",
     "text": [
      " 5\n"
     ]
    },
    {
     "name": "stdout",
     "output_type": "stream",
     "text": [
      "Ingrese la altura"
     ]
    },
    {
     "name": "stdin",
     "output_type": "stream",
     "text": [
      " 3\n"
     ]
    },
    {
     "name": "stdout",
     "output_type": "stream",
     "text": [
      "El area es: 7.500000 \n",
      "El perimetro es: 13.830952"
     ]
    }
   ],
   "source": [
    "int b = 0;\n",
    "int h = 0;\n",
    "float c = 0;\n",
    "    \n",
    "cout << \"Ingrese la base:\";  /*printf(\"Ingrese la base:\");*/\n",
    "cin >> b;  /*scanf(\"%d\", &b);*/\n",
    "cout << \"Ingrese la altura\";   /*printf(\"Ingrese la altura:\");*/\n",
    "cin >> h;    /*scanf(\"%d\", &h);*/\n",
    "    \n",
    "printf(\"El area es: %f \\n\", (float)(b*h)/2);\n",
    "c = sqrt(pow(b, 2) + pow(h, 2));\n",
    "printf(\"El perimetro es: %f\", b + h + c);"
   ]
  },
  {
   "cell_type": "markdown",
   "id": "66cab391-2f82-4393-925d-2680ccb7d23b",
   "metadata": {},
   "source": [
    "### Perimetro de triangulo"
   ]
  },
  {
   "cell_type": "code",
   "execution_count": 16,
   "id": "f1be940b-0c4c-4978-b9bf-32e5972a2331",
   "metadata": {},
   "outputs": [],
   "source": [
    "# include <stdio.h>\n",
    "\n",
    "int main(){\n",
    "    int a = 0;\n",
    "    int b = 0;\n",
    "    int c = 0;\n",
    "    \n",
    "    printf(\"Ingrese un lado:\");\n",
    "    scanf(\"%d\", &a);\n",
    "    printf(\"Ingrese un lado:\");\n",
    "    scanf(\"%d\", &b);\n",
    "    printf(\"Ingrese un lado:\");\n",
    "    scanf(\"%d\", &c);\n",
    "    \n",
    "    printf(\"El perimetro es: %d\", a + b + c);\n",
    "}"
   ]
  },
  {
   "cell_type": "code",
   "execution_count": 17,
   "id": "4b5c71cf-5f1c-4642-9f84-6fe25df6e8fb",
   "metadata": {},
   "outputs": [
    {
     "name": "stdout",
     "output_type": "stream",
     "text": [
      "Ingrese un lado:"
     ]
    },
    {
     "name": "stdin",
     "output_type": "stream",
     "text": [
      " 1\n"
     ]
    },
    {
     "name": "stdout",
     "output_type": "stream",
     "text": [
      "Ingrese un lado:"
     ]
    },
    {
     "name": "stdin",
     "output_type": "stream",
     "text": [
      " 6\n"
     ]
    },
    {
     "name": "stdout",
     "output_type": "stream",
     "text": [
      "Ingrese un lado:"
     ]
    },
    {
     "name": "stdin",
     "output_type": "stream",
     "text": [
      " 8\n"
     ]
    },
    {
     "name": "stdout",
     "output_type": "stream",
     "text": [
      "El perimetro es: 15"
     ]
    }
   ],
   "source": [
    "int a = 0;\n",
    "int b = 0;\n",
    "int c = 0;\n",
    "    \n",
    "cout << \"Ingrese un lado:\";  /*printf(\"Ingrese un lado:\");*/\n",
    "cin >> a;  /*scanf(\"%d\", &a);*/\n",
    "cout << \"Ingrese un lado:\";   /*printf(\"Ingrese un lado:\");*/\n",
    "cin >> b;    /*scanf(\"%d\", &b);*/\n",
    "cout << \"Ingrese un lado:\";   /*printf(\"Ingrese un lado:\");*/\n",
    "cin >> c;    /*scanf(\"%d\", &c);*/\n",
    "    \n",
    "printf(\"El perimetro es: %d\", a + b + c);"
   ]
  },
  {
   "cell_type": "markdown",
   "id": "1315e4ed-c371-4756-bf64-6b3c29e68b75",
   "metadata": {},
   "source": [
    "### Promedio de 3 enteros"
   ]
  },
  {
   "cell_type": "code",
   "execution_count": 55,
   "id": "f3f68d8e-4c2a-420b-afbd-a4d57108b5ac",
   "metadata": {},
   "outputs": [],
   "source": [
    "# include <stdio.h>\n",
    "\n",
    "int main(){\n",
    "    int a = 0;\n",
    "    int b = 0;\n",
    "    float c = 0;\n",
    "    float prom = 0;\n",
    "    \n",
    "    printf(\"Ingrese un entero:\");\n",
    "    scanf(\"%d\", &a);\n",
    "    printf(\"Ingrese un entero:\");\n",
    "    scanf(\"%d\", &b);\n",
    "    printf(\"Ingrese un entero:\");\n",
    "    scanf(\"%f\", &c);\n",
    "    \n",
    "    prom = (a + b + c) / 3;\n",
    "    printf(\"El promedio es es: %f\", prom);\n",
    "}"
   ]
  },
  {
   "cell_type": "code",
   "execution_count": 26,
   "id": "e2d909e5-bb6e-482c-86b5-661583c1d456",
   "metadata": {},
   "outputs": [
    {
     "name": "stdout",
     "output_type": "stream",
     "text": [
      "Ingrese un entero:"
     ]
    },
    {
     "name": "stdin",
     "output_type": "stream",
     "text": [
      " 2\n"
     ]
    },
    {
     "name": "stdout",
     "output_type": "stream",
     "text": [
      "Ingrese un entero:"
     ]
    },
    {
     "name": "stdin",
     "output_type": "stream",
     "text": [
      " 4\n"
     ]
    },
    {
     "name": "stdout",
     "output_type": "stream",
     "text": [
      "Ingrese un entero:"
     ]
    },
    {
     "name": "stdin",
     "output_type": "stream",
     "text": [
      " 4\n"
     ]
    },
    {
     "name": "stdout",
     "output_type": "stream",
     "text": [
      "El promedio es: 3.333333"
     ]
    }
   ],
   "source": [
    "int a = 0;\n",
    "int b = 0;\n",
    "float c = 0;\n",
    "float prom = 0;\n",
    "    \n",
    "cout << \"Ingrese un entero:\";  /*printf(\"Ingrese un entero:\");*/\n",
    "cin >> a;  /*scanf(\"%d\", &a);*/\n",
    "cout << \"Ingrese un entero:\";   /*printf(\"Ingrese un entero:\");*/\n",
    "cin >> b;    /*scanf(\"%d\", &b);*/\n",
    "cout << \"Ingrese un entero:\";   /*printf(\"Ingrese un entero:\");*/\n",
    "cin >> c;    /*scanf(\"%f\", &c);*/\n",
    "    \n",
    "prom = (a + b + c)/3;\n",
    "printf(\"El promedio es: %f\", prom);"
   ]
  },
  {
   "cell_type": "markdown",
   "id": "1bf9189f-b7b7-4b76-8f70-1af67186c90f",
   "metadata": {},
   "source": [
    "### Peso en libras"
   ]
  },
  {
   "cell_type": "code",
   "execution_count": 40,
   "id": "daa64076-b7ba-46fb-86ff-49f96414c8bd",
   "metadata": {},
   "outputs": [],
   "source": [
    "# include <stdio.h>\n",
    "\n",
    "int main(){\n",
    "    float p = 0;\n",
    "    \n",
    "    printf(\"Ingrese el peso:\\t\");\n",
    "    scanf(\"%f\", &p);\n",
    "    \n",
    "    printf(\"El peso en Libras es: %f\", p/0.45);\n",
    "}"
   ]
  },
  {
   "cell_type": "code",
   "execution_count": 49,
   "id": "ffa9f3b9-e5eb-4881-9700-1371872b2dd9",
   "metadata": {},
   "outputs": [
    {
     "name": "stdout",
     "output_type": "stream",
     "text": [
      "Ingrese el peso:"
     ]
    },
    {
     "name": "stdin",
     "output_type": "stream",
     "text": [
      " 90\n"
     ]
    },
    {
     "name": "stdout",
     "output_type": "stream",
     "text": [
      "El peso en Libras es: 200.000000\n"
     ]
    },
    {
     "data": {
      "text/plain": [
       "33"
      ]
     },
     "execution_count": 49,
     "metadata": {},
     "output_type": "execute_result"
    }
   ],
   "source": [
    "float p = 0;\n",
    "    \n",
    "cout << \"Ingrese el peso:\";   /*printf(\"Ingrese el peso:\\t\");*/\n",
    "cin >> p;    /*scanf(\"%f\", &p);*/\n",
    "    \n",
    "printf(\"El peso en Libras es: %f\\n\", p/0.45);\n",
    "/*printf(\"El peso en Libras es: %f\", p/0.45);*/"
   ]
  },
  {
   "cell_type": "markdown",
   "id": "4b0ccec9-7905-40ad-8e78-eb63153c3250",
   "metadata": {},
   "source": [
    "### Porcentaje de hombres y mujeres"
   ]
  },
  {
   "cell_type": "code",
   "execution_count": 52,
   "id": "b71e96b8-b611-464c-8712-957bd7e46179",
   "metadata": {},
   "outputs": [],
   "source": [
    "# include <stdio.h>\n",
    "\n",
    "int main(){\n",
    "    int h = 0;\n",
    "    int m = 0;\n",
    "    float ph = 0;\n",
    "    float pm = 0;\n",
    "    \n",
    "    printf(\"Ingrese el numero de hombres:\");\n",
    "    scanf(\"%d\", &h);\n",
    "    printf(\"Ingrese el numero de mujeres:\");\n",
    "    scanf(\"%d\", &m);\n",
    "    \n",
    "    ph = (float)h / (h + m);\n",
    "    pm = (float)m / (h + m);\n",
    "    \n",
    "    printf(\"El porcentaje de hombres es: %f\", ph);\n",
    "    printf(\"El porcentaje de mujeres es: %f\", pm);\n",
    "}"
   ]
  },
  {
   "cell_type": "code",
   "execution_count": 56,
   "id": "dd2560fe-e320-4e77-a87a-ceb09d90c193",
   "metadata": {},
   "outputs": [
    {
     "name": "stdout",
     "output_type": "stream",
     "text": [
      "Ingrese el numero de hombres:"
     ]
    },
    {
     "name": "stdin",
     "output_type": "stream",
     "text": [
      " 36\n"
     ]
    },
    {
     "name": "stdout",
     "output_type": "stream",
     "text": [
      "Ingrese el numero de mujeres:"
     ]
    },
    {
     "name": "stdin",
     "output_type": "stream",
     "text": [
      " 42\n"
     ]
    },
    {
     "name": "stdout",
     "output_type": "stream",
     "text": [
      "El porcentaje de hombres es: 46.153847% \n",
      "El porcentaje de mujeres es: 53.846157%"
     ]
    }
   ],
   "source": [
    "int h = 0;\n",
    "int m = 0;\n",
    "float ph = 0;\n",
    "float pm = 0;\n",
    "    \n",
    "printf(\"Ingrese el numero de hombres:\");\n",
    "cin >> h; /*scanf(\"%d\", &h);*/\n",
    "printf(\"Ingrese el numero de mujeres:\");\n",
    "cin >> m; /*scanf(\"%d\", &m);*/\n",
    "    \n",
    "ph = (float)h / (h + m);\n",
    "pm = (float)m / (h + m);\n",
    "    \n",
    "printf(\"El porcentaje de hombres es: %f%% \\n\", ph*100);\n",
    "printf(\"El porcentaje de mujeres es: %f%%\", pm*100);"
   ]
  },
  {
   "cell_type": "markdown",
   "id": "b401fd3e-9a6b-4c03-9e66-6ec793a45a48",
   "metadata": {},
   "source": [
    "### Tiempo de revision"
   ]
  },
  {
   "cell_type": "code",
   "execution_count": 58,
   "id": "eaf277fb-589a-4a70-9b4a-38ea01f4112f",
   "metadata": {},
   "outputs": [],
   "source": [
    "int main() {\n",
    "    int a = 0;\n",
    "    int b = 0;\n",
    "    int c = 0;\n",
    "    int h = 0;\n",
    "    int m = 0;\n",
    "    \n",
    "    printf(\"Ingrese el numero de examenes A: \");\n",
    "    scanf(\"%d\", &a);\n",
    "    printf(\"Ingrese el numero de examenes B: \");\n",
    "    scanf(\"%d\", &b);\n",
    "    printf(\"Ingrese el numero de examenes C: \");\n",
    "    scanf(\"%d\", &c);\n",
    "    \n",
    "    m = (5 * a) + (8 * b) + (6 * c);\n",
    "    h = m / 60;\n",
    "    m = m % 60;\n",
    "    \n",
    "    printf(\"El profesor tardara %d horas y %d minutos\", h, m);\n",
    "}"
   ]
  },
  {
   "cell_type": "code",
   "execution_count": 59,
   "id": "f294aa18-2225-4ee5-b9fa-8d64bd92c6fe",
   "metadata": {},
   "outputs": [
    {
     "name": "stdout",
     "output_type": "stream",
     "text": [
      "Ingrese el numero de examenes A: "
     ]
    },
    {
     "name": "stdin",
     "output_type": "stream",
     "text": [
      " 10\n"
     ]
    },
    {
     "name": "stdout",
     "output_type": "stream",
     "text": [
      "Ingrese el numero de examenes B: "
     ]
    },
    {
     "name": "stdin",
     "output_type": "stream",
     "text": [
      " 10\n"
     ]
    },
    {
     "name": "stdout",
     "output_type": "stream",
     "text": [
      "Ingrese el numero de examenes C: "
     ]
    },
    {
     "name": "stdin",
     "output_type": "stream",
     "text": [
      " 10\n"
     ]
    },
    {
     "name": "stdout",
     "output_type": "stream",
     "text": [
      "El profesor tardara 3 horas y 10 minutos"
     ]
    }
   ],
   "source": [
    "int a = 0;\n",
    "int b = 0;\n",
    "int c = 0;\n",
    "int h = 0;\n",
    "int m = 0;\n",
    "    \n",
    "printf(\"Ingrese el numero de examenes A: \");\n",
    "cin >> a; /*scanf(\"%d\", &a);*/\n",
    "printf(\"Ingrese el numero de examenes B: \");\n",
    "cin >> b; /*scanf(\"%d\", &b);*/\n",
    "printf(\"Ingrese el numero de examenes C: \");\n",
    "cin >> c; /*scanf(\"%d\", &c);*/\n",
    "    \n",
    "m = (5 * a) + (8 * b) + (6 * c);\n",
    "h = m / 60;\n",
    "m = m % 60;\n",
    "    \n",
    "printf(\"El profesor tardara %d horas y %d minutos\", h, m);"
   ]
  },
  {
   "cell_type": "code",
   "execution_count": null,
   "id": "dc143f3d-ccae-44c9-ab8e-fb36b17afe45",
   "metadata": {},
   "outputs": [],
   "source": []
  }
 ],
 "metadata": {
  "kernelspec": {
   "display_name": "C++14",
   "language": "C++14",
   "name": "xcpp14"
  },
  "language_info": {
   "codemirror_mode": "text/x-c++src",
   "file_extension": ".cpp",
   "mimetype": "text/x-c++src",
   "name": "c++",
   "version": "14"
  },
  "toc-autonumbering": false,
  "toc-showcode": false,
  "toc-showmarkdowntxt": false
 },
 "nbformat": 4,
 "nbformat_minor": 5
}
