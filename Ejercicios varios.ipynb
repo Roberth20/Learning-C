{
 "cells": [
  {
   "cell_type": "markdown",
   "metadata": {},
   "source": [
    "## Peso de ratones\n",
    "\n",
    "### Menos de 600 gramos"
   ]
  },
  {
   "cell_type": "code",
   "execution_count": 8,
   "metadata": {},
   "outputs": [
    {
     "name": "stdout",
     "output_type": "stream",
     "text": [
      "Peso de raton en gramos: 577 \n",
      "Peso de raton en gramos: 671 \n",
      "Peso de raton en gramos: 877 \n",
      "Peso de raton en gramos: 477 \n",
      "Peso de raton en gramos: 838 \n",
      "Peso de raton en gramos: 579 \n",
      "Peso de raton en gramos: 112 \n",
      "Peso de raton en gramos: 349 \n",
      "Peso de raton en gramos: 682 \n",
      "Peso de raton en gramos: 709 \n",
      "5 ratones pesan menos de 600 gramos"
     ]
    }
   ],
   "source": [
    "#include <stdio.h>\n",
    "#include <time.h>\n",
    "#include <stdlib.h>\n",
    "\n",
    "# define ratones 10\n",
    "\n",
    "int main(){\n",
    "    int i, c;\n",
    "    int p;\n",
    "    srand(time(NULL));\n",
    "    \n",
    "    c = 0;\n",
    "    for (i = 1; i <= ratones; i++){\n",
    "        p = 0;\n",
    "        //printf(\"Ingrese el peso del raton en gramos: \\t\");\n",
    "        //scanf(\"%f\", &p);\n",
    "        p = (rand() % 800) + 100;\n",
    "        printf(\"Peso de raton en gramos: %d \\n\", p);\n",
    "        \n",
    "        if (p < 600){\n",
    "            c += 1;\n",
    "        }\n",
    "    }\n",
    "    printf(\"%d ratones pesan menos de 600 gramos\", c);\n",
    "}"
   ]
  },
  {
   "cell_type": "markdown",
   "metadata": {},
   "source": [
    "### Peso acumulado"
   ]
  },
  {
   "cell_type": "code",
   "execution_count": 11,
   "metadata": {},
   "outputs": [
    {
     "name": "stdout",
     "output_type": "stream",
     "text": [
      "Peso de raton en gramos: 289\n",
      "Peso de raton en gramos: 262\n",
      "Peso de raton en gramos: 359\n",
      "Peso de raton en gramos: 548\n",
      "Peso de raton en gramos: 382\n",
      "Peso de raton en gramos: 374\n",
      "Peso de raton en gramos: 198\n",
      "Peso de raton en gramos: 201\n",
      "Peso de raton en gramos: 678\n",
      "Peso de raton en gramos: 785\n",
      "El peso acumulado es 4076 gramos"
     ]
    }
   ],
   "source": [
    "#include <stdio.h>\n",
    "#include <stdlib.h>\n",
    "#include <time.h>\n",
    "\n",
    "# define ratones 10\n",
    "\n",
    "int main(){\n",
    "    int i, c;\n",
    "    int p;\n",
    "    srand(time(NULL));\n",
    "    \n",
    "    c = 0;\n",
    "    for (i = 1; i <= ratones; i++){\n",
    "        p = 0;\n",
    "        //printf(\"Ingrese el peso del raton en gramos: \\t\");\n",
    "        //scanf(\"%f\", &p);\n",
    "        p = (rand() % 800) + 100;\n",
    "        printf(\"Peso de raton en gramos: %d\\n\", p);\n",
    "        \n",
    "        c += p;\n",
    "    }\n",
    "    printf(\"El peso acumulado es %d gramos\", c);\n",
    "}"
   ]
  },
  {
   "cell_type": "markdown",
   "metadata": {},
   "source": [
    "### Peso minimo"
   ]
  },
  {
   "cell_type": "code",
   "execution_count": 13,
   "metadata": {},
   "outputs": [
    {
     "name": "stdout",
     "output_type": "stream",
     "text": [
      "Peso de raton en gramos: 780\n",
      "Peso de raton en gramos: 135\n",
      "Peso de raton en gramos: 209\n",
      "Peso de raton en gramos: 189\n",
      "Peso de raton en gramos: 149\n",
      "Peso de raton en gramos: 722\n",
      "Peso de raton en gramos: 359\n",
      "Peso de raton en gramos: 744\n",
      "Peso de raton en gramos: 106\n",
      "Peso de raton en gramos: 640\n",
      "El mas liviano pesa 106 gramos"
     ]
    }
   ],
   "source": [
    "#include <stdio.h>\n",
    "#include <stdlib.h>\n",
    "#include <time.h>\n",
    "\n",
    "# define ratones 10\n",
    "\n",
    "int main(){\n",
    "    int i, c;\n",
    "    int p;\n",
    "    srand(time(NULL));\n",
    "    \n",
    "    c = 100000;\n",
    "    for (i = 1; i <= ratones; i++){\n",
    "        p = 0;\n",
    "        //printf(\"Ingrese el peso del raton en gramos: \\t\");\n",
    "        //scanf(\"%f\", &p);\n",
    "        p = (rand() % 800) + 100;\n",
    "        printf(\"Peso de raton en gramos: %d\\n\", p);\n",
    "        \n",
    "        if (p < c){\n",
    "            c = p;\n",
    "        }\n",
    "    }\n",
    "    printf(\"El mas liviano pesa %d gramos\", c);\n",
    "}"
   ]
  },
  {
   "cell_type": "markdown",
   "metadata": {},
   "source": [
    "### Mas pesado"
   ]
  },
  {
   "cell_type": "code",
   "execution_count": 14,
   "metadata": {},
   "outputs": [
    {
     "name": "stdout",
     "output_type": "stream",
     "text": [
      "Peso de raton en gramos: 239\n",
      "Peso de raton en gramos: 348\n",
      "Peso de raton en gramos: 773\n",
      "Peso de raton en gramos: 876\n",
      "Peso de raton en gramos: 313\n",
      "Peso de raton en gramos: 154\n",
      "Peso de raton en gramos: 877\n",
      "Peso de raton en gramos: 866\n",
      "Peso de raton en gramos: 331\n",
      "Peso de raton en gramos: 692\n",
      "El mas pesado pesa 877 gramos"
     ]
    }
   ],
   "source": [
    "#include <stdio.h>\n",
    "#include <stdlib.h>\n",
    "#include <time.h>\n",
    "\n",
    "# define ratones 10\n",
    "\n",
    "int main(){\n",
    "    int i, c;\n",
    "    int p;\n",
    "    srand(time(NULL));\n",
    "    \n",
    "    c = -100000;\n",
    "    for (i = 1; i <= ratones; i++){\n",
    "        p = 0;\n",
    "        //printf(\"Ingrese el peso del raton en gramos: \\t\");\n",
    "        //scanf(\"%f\", &p);\n",
    "        p = (rand() % 800) + 100;\n",
    "        printf(\"Peso de raton en gramos: %d\\n\", p);\n",
    "        \n",
    "        if (p > c){\n",
    "            c = p;\n",
    "        }\n",
    "    }\n",
    "    printf(\"El mas pesado pesa %d gramos\", c);\n",
    "}"
   ]
  },
  {
   "cell_type": "markdown",
   "metadata": {},
   "source": [
    "### Peso acumulado de personas"
   ]
  },
  {
   "cell_type": "code",
   "execution_count": 15,
   "metadata": {},
   "outputs": [
    {
     "name": "stdout",
     "output_type": "stream",
     "text": [
      "El peso de la persona en Kg: 56\n",
      "El peso de la persona en Kg: 99\n",
      "El peso de la persona en Kg: 54\n",
      "El peso de la persona en Kg: 78\n",
      "El peso de la persona en Kg: 60\n",
      "El peso de la persona en Kg: 77\n",
      "El peso de la persona en Kg: 73\n",
      "El peso de la persona en Kg: 60\n",
      "El peso de la persona en Kg: 85\n",
      "El peso de la persona en Kg: 62\n",
      "El peso de la persona en Kg: 64\n",
      "El peso de la persona en Kg: 93\n",
      "El peso de la persona en Kg: 48\n",
      "El peso de la persona en Kg: 71\n",
      "El peso de la persona en Kg: 70\n",
      "El peso de la persona en Kg: 77\n",
      "El peso de la persona en Kg: 45\n",
      "El peso de la persona en Kg: 43\n",
      "El peso de la persona en Kg: 44\n",
      "El peso de la persona en Kg: 41\n",
      "El peso de la persona en Kg: 78\n",
      "El peso de la persona en Kg: 69\n",
      "El peso de la persona en Kg: 59\n",
      "El peso de la persona en Kg: 68\n",
      "El peso de la persona en Kg: 46\n",
      "El peso de la persona en Kg: 75\n",
      "El peso de la persona en Kg: 93\n",
      "El peso de la persona en Kg: 71\n",
      "El peso de la persona en Kg: 72\n",
      "El peso de la persona en Kg: 55\n",
      "El peso de la persona en Kg: 58\n",
      "El peso de la persona en Kg: 80\n",
      "El peso de la persona en Kg: 54\n",
      "El peso de la persona en Kg: 65\n",
      "El peso de la persona en Kg: 50\n",
      "El peso de la persona en Kg: 66\n",
      "El peso de la persona en Kg: 42\n",
      "El peso de la persona en Kg: 75\n",
      "El peso de la persona en Kg: 87\n",
      "El peso de la persona en Kg: 79\n",
      "El peso acumulado es 2642 Kg"
     ]
    }
   ],
   "source": [
    "#include <stdio.h>\n",
    "#include <stdlib.h>\n",
    "#include <time.h>\n",
    "\n",
    "# define personas 40\n",
    "\n",
    "int main(){\n",
    "    int i, c;\n",
    "    int p;\n",
    "    srand(time(NULL));\n",
    "    \n",
    "    c = 0;\n",
    "    for (i = 1; i <= personas; i++){\n",
    "        p = 0;\n",
    "        //printf(\"Ingrese el peso de la en Kg: \\t\");\n",
    "        //scanf(\"%f\", &p);\n",
    "        p = (rand() % 60) + 40;\n",
    "        printf(\"El peso de la persona en Kg: %d\\n\", p);\n",
    "        \n",
    "        c += p;\n",
    "    }\n",
    "    printf(\"El peso acumulado es %d Kg\", c);\n",
    "}"
   ]
  },
  {
   "cell_type": "markdown",
   "metadata": {},
   "source": [
    "### Peso promedio"
   ]
  },
  {
   "cell_type": "code",
   "execution_count": 19,
   "metadata": {},
   "outputs": [
    {
     "name": "stdout",
     "output_type": "stream",
     "text": [
      "El peso de la persona en Kg: 41\n",
      "El peso de la persona en Kg: 48\n",
      "El peso de la persona en Kg: 46\n",
      "El peso de la persona en Kg: 52\n",
      "El peso de la persona en Kg: 97\n",
      "El peso de la persona en Kg: 46\n",
      "El peso de la persona en Kg: 90\n",
      "El peso de la persona en Kg: 50\n",
      "El peso de la persona en Kg: 42\n",
      "El peso de la persona en Kg: 48\n",
      "El peso de la persona en Kg: 72\n",
      "El peso de la persona en Kg: 76\n",
      "El peso de la persona en Kg: 88\n",
      "El peso de la persona en Kg: 51\n",
      "El peso de la persona en Kg: 59\n",
      "El peso de la persona en Kg: 53\n",
      "El peso de la persona en Kg: 45\n",
      "El peso de la persona en Kg: 52\n",
      "El peso de la persona en Kg: 98\n",
      "El peso de la persona en Kg: 58\n",
      "El peso promedio es 60 Kg"
     ]
    }
   ],
   "source": [
    "#include <stdio.h>\n",
    "#include <stdlib.h>\n",
    "#include <time.h>\n",
    "\n",
    "# define personas 20\n",
    "\n",
    "int main(){\n",
    "    int i, c;\n",
    "    int p;\n",
    "    srand(time(NULL));\n",
    "    \n",
    "    c = 0;\n",
    "    for (i = 1; i <= personas; i++){\n",
    "        p = 0;\n",
    "        //printf(\"Ingrese el peso de la en Kg: \\t\");\n",
    "        //scanf(\"%f\", &p);\n",
    "        p = (rand() % 60) + 40;\n",
    "        printf(\"El peso de la persona en Kg: %d\\n\", p);\n",
    "        \n",
    "        c += p;\n",
    "    }\n",
    "    printf(\"El peso promedio es %d Kg\", c/personas);\n",
    "}"
   ]
  },
  {
   "cell_type": "markdown",
   "metadata": {},
   "source": [
    "### Mayores de edad"
   ]
  },
  {
   "cell_type": "code",
   "execution_count": 22,
   "metadata": {},
   "outputs": [
    {
     "name": "stdout",
     "output_type": "stream",
     "text": [
      "La persona tiene edad: 23\n",
      "La persona tiene edad: 2\n",
      "La persona tiene edad: 50\n",
      "La persona tiene edad: 42\n",
      "La persona tiene edad: 51\n",
      "La persona tiene edad: 50\n",
      "La persona tiene edad: 32\n",
      "La persona tiene edad: 26\n",
      "La persona tiene edad: 13\n",
      "La persona tiene edad: 11\n",
      "7 son mayores de edad"
     ]
    }
   ],
   "source": [
    "#include <stdio.h>\n",
    "#include <stdlib.h>\n",
    "#include <time.h>\n",
    "\n",
    "# define personas 10\n",
    "\n",
    "int main(){\n",
    "    int i, c;\n",
    "    int e;\n",
    "    srand(time(NULL));\n",
    "    \n",
    "    c = 0;\n",
    "    for (i = 1; i <= personas; i++){\n",
    "        e = 0;\n",
    "        //printf(\"Ingrese la edad: \\t\");\n",
    "        //scanf(\"%f\", &e);\n",
    "        e = rand() % 80;\n",
    "        printf(\"La persona tiene edad: %d\\n\", e);\n",
    "        \n",
    "        if (e >= 18){\n",
    "            c += 1;\n",
    "        }\n",
    "    }\n",
    "    printf(\"%d son mayores de edad\", c);\n",
    "}"
   ]
  },
  {
   "cell_type": "markdown",
   "metadata": {},
   "source": [
    "### Mayores y menores"
   ]
  },
  {
   "cell_type": "code",
   "execution_count": 23,
   "metadata": {},
   "outputs": [
    {
     "name": "stdout",
     "output_type": "stream",
     "text": [
      "La edad de la persona es: 21\n",
      "La edad de la persona es: 13\n",
      "La edad de la persona es: 32\n",
      "La edad de la persona es: 87\n",
      "La edad de la persona es: 55\n",
      "La edad de la persona es: 56\n",
      "La edad de la persona es: 87\n",
      "La edad de la persona es: 29\n",
      "La edad de la persona es: 37\n",
      "La edad de la persona es: 1\n",
      "8 son mayores de edad y 2 son menores"
     ]
    }
   ],
   "source": [
    "#include <stdio.h>\n",
    "#include <stdlib.h>\n",
    "#include <time.h>\n",
    "\n",
    "# define personas 10\n",
    "\n",
    "int main(){\n",
    "    int i, c;\n",
    "    int e;\n",
    "    srand(time(NULL));\n",
    "    \n",
    "    c = 0;\n",
    "    for (i = 1; i <= personas; i++){\n",
    "        e = 0;\n",
    "        //printf(\"Ingrese la edad: \\t\");\n",
    "        //scanf(\"%f\", &e);\n",
    "        e = rand() % 90;\n",
    "        printf(\"La edad de la persona es: %d\\n\", e);\n",
    "        \n",
    "        if (e >= 18){\n",
    "            c += 1;\n",
    "        }\n",
    "    }\n",
    "    printf(\"%d son mayores de edad y %d son menores\", c, personas - c);\n",
    "}"
   ]
  },
  {
   "cell_type": "markdown",
   "metadata": {},
   "source": [
    "### Mayores y menores v2"
   ]
  },
  {
   "cell_type": "code",
   "execution_count": 29,
   "metadata": {},
   "outputs": [
    {
     "name": "stdout",
     "output_type": "stream",
     "text": [
      "Edad de la persona: 56\n",
      "Edad de la persona: 10\n",
      "Edad de la persona: 0\n",
      "Edad de la persona: 53\n",
      "Edad de la persona: 69\n",
      "Edad de la persona: 44\n",
      "Edad de la persona: 35\n",
      "Edad de la persona: 50\n",
      "Edad de la persona: 32\n",
      "Edad de la persona: 24\n",
      "8 son mayores de edad y 2 son menores\n",
      "80.000000% son mayores de edad y 20.000000% son menores\n"
     ]
    }
   ],
   "source": [
    "#include <stdio.h>\n",
    "#include <stdlib.h>\n",
    "#include <time.h>\n",
    "\n",
    "# define personas 10\n",
    "\n",
    "int main(){\n",
    "    int i;\n",
    "    float e, c;\n",
    "    srand(time(NULL));\n",
    "    \n",
    "    c = 0;\n",
    "    for (i = 1; i <= personas; i++){\n",
    "        e = 0;\n",
    "        //printf(\"Ingrese la edad: \\t\");\n",
    "        //scanf(\"%f\", &e);\n",
    "        e = rand() % 80;\n",
    "        printf(\"Edad de la persona: %d\\n\", (int)e);        \n",
    "        \n",
    "        if (e >= 18){\n",
    "            c += 1;\n",
    "        }\n",
    "    }\n",
    "    printf(\"%d son mayores de edad y %d son menores\\n\", (int)c, (int)(personas - c));\n",
    "    printf(\"%f%% son mayores de edad y %f%% son menores\\n\", (c/personas)*100, ((personas-c)/personas)*100);\n",
    "}"
   ]
  },
  {
   "cell_type": "markdown",
   "metadata": {},
   "source": [
    "### Datos de genero y edad"
   ]
  },
  {
   "cell_type": "code",
   "execution_count": 45,
   "metadata": {},
   "outputs": [
    {
     "name": "stdout",
     "output_type": "stream",
     "text": [
      "La edad de la persona es 29 y de sexo M\n",
      "La edad de la persona es 12 y de sexo F\n",
      "La edad de la persona es 55 y de sexo F\n",
      "La edad de la persona es 68 y de sexo F\n",
      "La edad de la persona es 20 y de sexo F\n",
      "La edad de la persona es 26 y de sexo M\n",
      "La edad de la persona es 5 y de sexo M\n",
      "La edad de la persona es 52 y de sexo M\n",
      "La edad de la persona es 36 y de sexo F\n",
      "La edad de la persona es 7 y de sexo F\n",
      "Hay 6.000000 mujeres y 4.000000 hombres\n",
      "Hay 2.000000 mujeres menores de edad\n",
      "60.000004 % son mujeres y 40.000000 % son hombres"
     ]
    }
   ],
   "source": [
    "#include <stdio.h>\n",
    "#include <stdlib.h>\n",
    "#include <time.h>\n",
    "\n",
    "#define personas 10\n",
    "\n",
    "int main(){\n",
    "    char g;\n",
    "    int i, e, tmp;\n",
    "    float cm, cf, cfm;\n",
    "    srand(time(NULL));\n",
    "    \n",
    "    cm = 0; cf = 0; cfm=0;\n",
    "    \n",
    "    for (i = 0; i < 10; i++){\n",
    "        g = ' '; \n",
    "        e = 0;\n",
    "        //printf(\"Ingrese genero (M/F): \\t\");\n",
    "        //scanf(\"%s\", &g);\n",
    "        //printf(\"Ingrese edad: \\t\");\n",
    "        //scanf(\"%d\", &e);\n",
    "        e = rand() % 80;\n",
    "        tmp = rand() % 2;\n",
    "        \n",
    "        if (tmp == 1){\n",
    "            g = 'F';\n",
    "        }\n",
    "        else {\n",
    "            g = 'M';\n",
    "        }\n",
    "        printf(\"La edad de la persona es %d y de sexo %c\\n\", e, g);\n",
    "        \n",
    "        if ((g == 'F' || g == 'f') && e >= 18){\n",
    "            cf += 1; cfm += 1;\n",
    "        }\n",
    "        else if (g == 'F' || g == 'f'){\n",
    "            cf += 1;\n",
    "        }\n",
    "        else {\n",
    "            cm += 1;\n",
    "        }\n",
    "    }\n",
    "    printf(\"Hay %f mujeres y %f hombres\\n\", cf, cm);\n",
    "    printf(\"Hay %f mujeres menores de edad\\n\", cf - cfm);\n",
    "    printf(\"%f %% son mujeres y %f %% son hombres\", (cf/personas)*100, (cm/personas)*100);\n",
    "}"
   ]
  },
  {
   "cell_type": "markdown",
   "metadata": {},
   "source": [
    "### Peso de materiales en libras"
   ]
  },
  {
   "cell_type": "code",
   "execution_count": 47,
   "metadata": {},
   "outputs": [
    {
     "name": "stdout",
     "output_type": "stream",
     "text": [
      "El peso del material es 4.000000 Kg\n",
      "El peso del material es 1.000000 Kg\n",
      "El peso del material es 8.000000 Kg\n",
      "El peso del material es 2.000000 Kg\n",
      "El peso del material es 8.000000 Kg\n",
      "El peso del material es 1.000000 Kg\n",
      "El peso del material es 3.000000 Kg\n",
      "El peso del material es 1.000000 Kg\n",
      "El peso del material es 6.000000 Kg\n",
      "El peso del material es 1.000000 Kg\n",
      "El peso del material es 6.000000 Kg\n",
      "El peso del material es 1.000000 Kg\n",
      "El peso del material es 8.000000 Kg\n",
      "El peso del material es 9.000000 Kg\n",
      "El peso del material es 2.000000 Kg\n",
      "El peso acumulado en libras es 134.479718"
     ]
    }
   ],
   "source": [
    "#include <stdio.h>\n",
    "#include <stdlib.h>\n",
    "#include <time.h>\n",
    "\n",
    "#define materiales 15\n",
    "\n",
    "int main() {\n",
    "    float c = 0, p = 0;\n",
    "    int i;\n",
    "    srand(time(NULL));\n",
    "    \n",
    "    for (i = 0; i < 15; i++){\n",
    "        p = 0;\n",
    "        //printf(\"Ingrese el peso del material:\\t\");\n",
    "        //scanf(\"%f\", &p);\n",
    "        p = (rand() % 9) + 1;\n",
    "        printf(\"El peso del material es %f Kg\\n\", p);\n",
    "        \n",
    "        c += p;\n",
    "    }\n",
    "    printf(\"El peso acumulado en libras es %f\", c / 0.4536);\n",
    "}"
   ]
  },
  {
   "cell_type": "markdown",
   "metadata": {},
   "source": [
    "### Volumen de barriles"
   ]
  },
  {
   "cell_type": "code",
   "execution_count": 52,
   "metadata": {},
   "outputs": [
    {
     "name": "stdout",
     "output_type": "stream",
     "text": [
      "Un barril de 25 litros\n",
      "Un barril de 40 litros\n",
      "Un barril de 50 litros\n",
      "Un barril de 100 litros\n",
      "Un barril de 100 litros\n",
      "Un barril de 40 litros\n",
      "Un barril de 50 litros\n",
      "Un barril de 100 litros\n",
      "Un barril de 25 litros\n",
      "Un barril de 50 litros\n",
      "El volumen total es 580"
     ]
    }
   ],
   "source": [
    "#include <stdio.h>\n",
    "#include <stdlib.h>\n",
    "#include <time.h>\n",
    "\n",
    "#define barriles 10\n",
    "\n",
    "int main() {\n",
    "    int b, i, v;\n",
    "    srand(time(NULL));\n",
    "    \n",
    "    v = 0;\n",
    "    for (i = 0; i < barriles; i++){\n",
    "        b = (rand() % 4) + 1;\n",
    "        switch (b) {\n",
    "            case 1:\n",
    "                printf(\"Un barril de 25 litros\\n\");\n",
    "                v += 25;\n",
    "                break;\n",
    "            case 2:\n",
    "                printf(\"Un barril de 40 litros\\n\");\n",
    "                v += 40;\n",
    "                break;\n",
    "            case 3:\n",
    "                printf(\"Un barril de 50 litros\\n\");\n",
    "                v += 50;\n",
    "                break;\n",
    "            case 4:\n",
    "                printf(\"Un barril de 100 litros\\n\");\n",
    "                v += 100;\n",
    "                break;\n",
    "        }\n",
    "    }\n",
    "    printf(\"El volumen total es %d\", v);\n",
    "}"
   ]
  },
  {
   "cell_type": "markdown",
   "metadata": {},
   "source": [
    "### Promedio temperaturas"
   ]
  },
  {
   "cell_type": "code",
   "execution_count": 54,
   "metadata": {},
   "outputs": [
    {
     "name": "stdout",
     "output_type": "stream",
     "text": [
      "La temperatura minima de hoy es 27 grados y la maxima 28 grados\n",
      "La temperatura minima de hoy es 20 grados y la maxima 22 grados\n",
      "La temperatura minima de hoy es -8 grados y la maxima 7 grados\n",
      "La temperatura minima de hoy es 17 grados y la maxima 22 grados\n",
      "La temperatura minima de hoy es 0 grados y la maxima 5 grados\n",
      "La temperatura minima de hoy es 4 grados y la maxima 21 grados\n",
      "La temperatura minima de hoy es 24 grados y la maxima 24 grados\n",
      "La temperatura minima de hoy es -10 grados y la maxima -5 grados\n",
      "La temperatura minima de hoy es 2 grados y la maxima 36 grados\n",
      "La temperatura minima de hoy es -7 grados y la maxima 8 grados\n",
      "El promedio de temperaturas bajas es 6.900000 grados\n",
      "El promedio de temperaturas altas es 16.799999 grados\n"
     ]
    }
   ],
   "source": [
    "#include <stdio.h>\n",
    "#include <stdlib.h>\n",
    "#include <time.h>\n",
    "\n",
    "#define temperaturas 10\n",
    "\n",
    "int main() {\n",
    "    int tm, tM, i;\n",
    "    float t1, t2;\n",
    "    srand(time(NULL));\n",
    "    \n",
    "    t1 = 0; t2 = 0;\n",
    "    \n",
    "    for (i = 0; i < temperaturas; i++){\n",
    "        tm = (rand() % 50) -10;\n",
    "        tM = (rand() % 50) -10;\n",
    "        if (tm < tM){\n",
    "            printf(\"La temperatura minima de hoy es %d grados y la maxima %d grados\\n\", tm, tM);\n",
    "            t1 += tm; t2 += tM;\n",
    "        }\n",
    "        else{\n",
    "            printf(\"La temperatura minima de hoy es %d grados y la maxima %d grados\\n\", tM, tm);\n",
    "            t1 += tM; t2 += tm;\n",
    "        }\n",
    "    }\n",
    "    printf(\"El promedio de temperaturas bajas es %f grados\\n\", t1/temperaturas);\n",
    "    printf(\"El promedio de temperaturas altas es %f grados\\n\", t2/temperaturas);\n",
    "}"
   ]
  },
  {
   "cell_type": "markdown",
   "metadata": {},
   "source": [
    "### Temperatura maxima del dia mas frio"
   ]
  },
  {
   "cell_type": "code",
   "execution_count": 64,
   "metadata": {},
   "outputs": [
    {
     "name": "stdout",
     "output_type": "stream",
     "text": [
      "La temperatura minima de hoy es 15 grados y la maxima 28 grados\n",
      "La temperatura minima de hoy es -5 grados y la maxima 11 grados\n",
      "La temperatura minima de hoy es -5 grados y la maxima 9 grados\n",
      "La temperatura minima de hoy es -9 grados y la maxima 20 grados\n",
      "La temperatura minima de hoy es -9 grados y la maxima -4 grados\n",
      "La temperatura minima de hoy es 2 grados y la maxima 15 grados\n",
      "La temperatura minima de hoy es 12 grados y la maxima 31 grados\n",
      "La temperatura minima de hoy es 4 grados y la maxima 9 grados\n",
      "La temperatura minima de hoy es 18 grados y la maxima 30 grados\n",
      "La temperatura minima de hoy es 13 grados y la maxima 15 grados\n",
      "La temperatura mas alta del dia mas frio fue -4"
     ]
    }
   ],
   "source": [
    "#include <stdio.h>\n",
    "#include <stdlib.h>\n",
    "#include <time.h>\n",
    "\n",
    "#define temperaturas 10\n",
    "\n",
    "int main() {\n",
    "    int tm, tM, i, Tm;\n",
    "    float p, tp;\n",
    "    float t1, t2;\n",
    "    srand(time(NULL));\n",
    "    \n",
    "    t1 = 0; t2 = 0;\n",
    "    Tm = 999999;\n",
    "    tp = 999999;\n",
    "    \n",
    "    for (i = 0; i < temperaturas; i++){\n",
    "        tm = (rand() % 50) -10;\n",
    "        tM = (rand() % 50) -10;\n",
    "        if (tm < tM){\n",
    "            printf(\"La temperatura minima de hoy es %d grados y la maxima %d grados\\n\", tm, tM);\n",
    "            p = (float)(tm + tM)/2;\n",
    "            if (p < tp){\n",
    "                Tm = tM;\n",
    "                tp = p;\n",
    "            }\n",
    "        }\n",
    "        else{\n",
    "            printf(\"La temperatura minima de hoy es %d grados y la maxima %d grados\\n\", tM, tm);\n",
    "            p = (float)(tm + tM)/2;\n",
    "            if (p < tp){\n",
    "                Tm = tm;\n",
    "                tp = p;\n",
    "            }\n",
    "        }\n",
    "    }\n",
    "    printf(\"La temperatura mas alta del dia mas frio fue %d\", Tm);\n",
    "}"
   ]
  },
  {
   "cell_type": "markdown",
   "metadata": {},
   "source": [
    "### Temperatura minima el dia mas calido"
   ]
  },
  {
   "cell_type": "code",
   "execution_count": 68,
   "metadata": {},
   "outputs": [
    {
     "name": "stdout",
     "output_type": "stream",
     "text": [
      "La temperatura minima de hoy es 11 grados y la maxima 15 grados\n",
      "La temperatura minima de hoy es 3 grados y la maxima 26 grados\n",
      "La temperatura minima de hoy es -2 grados y la maxima 34 grados\n",
      "La temperatura minima de hoy es 9 grados y la maxima 19 grados\n",
      "La temperatura minima de hoy es 10 grados y la maxima 12 grados\n",
      "La temperatura minima de hoy es 9 grados y la maxima 25 grados\n",
      "La temperatura minima de hoy es 10 grados y la maxima 37 grados\n",
      "La temperatura minima de hoy es 24 grados y la maxima 35 grados\n",
      "La temperatura minima de hoy es -5 grados y la maxima 30 grados\n",
      "La temperatura minima de hoy es 8 grados y la maxima 38 grados\n",
      "La temperatura mas baja del dia mas calido fue 24"
     ]
    }
   ],
   "source": [
    "#include <stdio.h>\n",
    "#include <stdlib.h>\n",
    "#include <time.h>\n",
    "\n",
    "#define temperaturas 10\n",
    "\n",
    "int main() {\n",
    "    int tm, tM, i, TM;    \n",
    "    float p, tp;\n",
    "    float t1, t2;\n",
    "    srand(time(NULL));\n",
    "    \n",
    "    t1 = 0; t2 = 0;\n",
    "    tp = -99999;\n",
    "    \n",
    "    for (i = 0; i < temperaturas; i++){\n",
    "        tm = (rand() % 50) -10;\n",
    "        tM = (rand() % 50) -10;\n",
    "        if (tm < tM){\n",
    "            printf(\"La temperatura minima de hoy es %d grados y la maxima %d grados\\n\", tm, tM);\n",
    "            p = (float)(tm + tM)/2;\n",
    "            if (p > tp){\n",
    "                TM = tm;\n",
    "                tp = p;\n",
    "            }\n",
    "        }\n",
    "        else{\n",
    "            printf(\"La temperatura minima de hoy es %d grados y la maxima %d grados\\n\", tM, tm);\n",
    "            p = (float)(tm + tM)/2;\n",
    "            if (p > tp){\n",
    "                TM = tM;\n",
    "                tp = p;\n",
    "            }\n",
    "        }\n",
    "    }\n",
    "    printf(\"La temperatura mas baja del dia mas calido fue %d\", TM);\n",
    "}"
   ]
  },
  {
   "cell_type": "markdown",
   "metadata": {},
   "source": [
    "### Promedio de temperatura maximo cuando la minima es -5 < t < 5"
   ]
  },
  {
   "cell_type": "code",
   "execution_count": 71,
   "metadata": {},
   "outputs": [
    {
     "name": "stdout",
     "output_type": "stream",
     "text": [
      "La temperatura minima de hoy es 4 grados y la maxima 25 grados\n",
      "La temperatura minima de hoy es 3 grados y la maxima 12 grados\n",
      "La temperatura minima de hoy es 1 grados y la maxima 16 grados\n",
      "La temperatura minima de hoy es 8 grados y la maxima 38 grados\n",
      "La temperatura minima de hoy es 6 grados y la maxima 30 grados\n",
      "La temperatura minima de hoy es 3 grados y la maxima 24 grados\n",
      "La temperatura minima de hoy es 19 grados y la maxima 30 grados\n",
      "La temperatura minima de hoy es -7 grados y la maxima 31 grados\n",
      "La temperatura minima de hoy es 18 grados y la maxima 36 grados\n",
      "La temperatura minima de hoy es 13 grados y la maxima 31 grados\n",
      "La promedio de temperaturas altas en dias con minimo entre -5 y 5 grados es 19.250000 grados"
     ]
    }
   ],
   "source": [
    "#include <stdio.h>\n",
    "#include <stdlib.h>\n",
    "#include <time.h>\n",
    "\n",
    "#define temperaturas 10\n",
    "\n",
    "int main() {\n",
    "    int tm, tM, i, c;    \n",
    "    float t1;\n",
    "    srand(time(NULL));\n",
    "    \n",
    "    t1 = 0; c= 0;\n",
    "    \n",
    "    for (i = 0; i < temperaturas; i++){\n",
    "        tm = (rand() % 50) -10;\n",
    "        tM = (rand() % 50) -10;\n",
    "        if (tm < tM){\n",
    "            printf(\"La temperatura minima de hoy es %d grados y la maxima %d grados\\n\", tm, tM);\n",
    "            if (tm >= -5 && tm <= 5){\n",
    "                t1 += tM;\n",
    "                c += 1;\n",
    "            }\n",
    "        }\n",
    "        else{\n",
    "            printf(\"La temperatura minima de hoy es %d grados y la maxima %d grados\\n\", tM, tm);\n",
    "            if (tM >= -5 && tM <= 5){\n",
    "                t1 += tm;\n",
    "                c += 1;\n",
    "            }\n",
    "        }\n",
    "    }\n",
    "    printf(\"La promedio de temperaturas altas en dias con minimo entre -5 y 5 grados es %f grados\", t1/c);\n",
    "}"
   ]
  },
  {
   "cell_type": "markdown",
   "metadata": {},
   "source": [
    "### Varios numeros"
   ]
  },
  {
   "cell_type": "code",
   "execution_count": 2,
   "metadata": {},
   "outputs": [
    {
     "name": "stdout",
     "output_type": "stream",
     "text": [
      "Numero: 6\n",
      "Numero: 7\n",
      "Numero: -16\n",
      "Numero: -12\n",
      "Numero: -8\n",
      "Numero: -15\n",
      "Numero: -3\n",
      "Numero: 1\n",
      "Numero: -19\n",
      "Numero: -16\n",
      "Hay 7 numeros negativos\n",
      "La suma de los numeros entre 1 y 10 es 14\n",
      "El promedio de los 10 numeros es -7.500000"
     ]
    }
   ],
   "source": [
    "#include <stdio.h>\n",
    "#include <stdlib.h>\n",
    "#include <time.h>\n",
    "\n",
    "#define numeros 10\n",
    "\n",
    "int main() {\n",
    "    int i, cn = 0, cp = 0, N = 0, n=0;\n",
    "    srand(time(NULL));\n",
    "    \n",
    "    for (i = 0; i < numeros; i++){\n",
    "        n = (rand() % 40) - 20;\n",
    "        printf(\"Numero: %d\\n\", n);\n",
    "        if (n < 0){\n",
    "            cn += 1;\n",
    "        }\n",
    "        else {\n",
    "            if (n > 0 && n <= 10){\n",
    "                cp += n;\n",
    "            }\n",
    "        }\n",
    "        N += n;\n",
    "    }\n",
    "    printf(\"Hay %d numeros negativos\\n\", cn);\n",
    "    printf(\"La suma de los numeros entre 1 y 10 es %d\\n\", cp);\n",
    "    printf(\"El promedio de los 10 numeros es %f\", (float)N/numeros);\n",
    "}"
   ]
  },
  {
   "cell_type": "markdown",
   "metadata": {},
   "source": [
    "### Edad y peso de ratones"
   ]
  },
  {
   "cell_type": "code",
   "execution_count": 8,
   "metadata": {},
   "outputs": [
    {
     "name": "stdout",
     "output_type": "stream",
     "text": [
      "El raton tiene 15 meses de edad y pesa 797 gramos\n",
      "El raton tiene 24 meses de edad y pesa 563 gramos\n",
      "El raton tiene 7 meses de edad y pesa 683 gramos\n",
      "El raton tiene 14 meses de edad y pesa 630 gramos\n",
      "El raton tiene 1 meses de edad y pesa 588 gramos\n",
      "El raton de mayor peso tiene una edad de 15 meses\n",
      "El raton mas ligero tiene una edad de 24 meses"
     ]
    }
   ],
   "source": [
    "#include <stdio.h>\n",
    "#include <stdlib.h>\n",
    "#include <time.h>\n",
    "\n",
    "#define ratones 5\n",
    "\n",
    "int main(){\n",
    "    int p = 0, e = 0, i, Mp, mp, e1, e2;\n",
    "    Mp = -99999;\n",
    "    mp = 999999;\n",
    "    srand(time(NULL));\n",
    "    \n",
    "    for (i = 0; i < ratones; i++){\n",
    "        p = (rand() % 800) + 100;\n",
    "        e = (rand() % 24) + 1;\n",
    "        printf(\"El raton tiene %d meses de edad y pesa %d gramos\\n\", e, p);\n",
    "        if (p > Mp){\n",
    "            Mp = p;\n",
    "            e1 = e;\n",
    "        }\n",
    "        else if (p < mp){\n",
    "            mp = p;\n",
    "            e2 = e;\n",
    "        }\n",
    "    }\n",
    "    printf(\"El raton de mayor peso tiene una edad de %d meses\\n\", e1);\n",
    "    printf(\"El raton mas ligero tiene una edad de %d meses\", e2);\n",
    "}"
   ]
  },
  {
   "cell_type": "markdown",
   "metadata": {},
   "source": [
    "### Datos de alumnos"
   ]
  },
  {
   "cell_type": "code",
   "execution_count": 13,
   "metadata": {},
   "outputs": [
    {
     "name": "stdout",
     "output_type": "stream",
     "text": [
      "El alumn@ de 17 anos y genero F aprobo 0 materias y 5 materias por finales\n",
      "El alumn@ de 28 anos y genero F aprobo 5 materias y 0 materias por finales\n",
      "El alumn@ de 22 anos y genero F aprobo 1 materias y 4 materias por finales\n",
      "El alumn@ de 20 anos y genero M aprobo 4 materias y 1 materias por finales\n",
      "El alumn@ de 19 anos y genero F aprobo 0 materias y 5 materias por finales\n",
      "El alumn@ de 26 anos y genero F aprobo 4 materias y 1 materias por finales\n",
      "El alumn@ de 29 anos y genero F aprobo 1 materias y 4 materias por finales\n",
      "El alumn@ de 29 anos y genero F aprobo 3 materias y 2 materias por finales\n",
      "El alumn@ de 29 anos y genero F aprobo 4 materias y 1 materias por finales\n",
      "El alumn@ de 26 anos y genero F aprobo 0 materias y 5 materias por finales\n",
      "El alumn@ de 19 anos y genero F aprobo 0 materias y 5 materias por finales\n",
      "El alumn@ de 27 anos y genero F aprobo 4 materias y 1 materias por finales\n",
      "El alumn@ de 21 anos y genero M aprobo 4 materias y 1 materias por finales\n",
      "El alumn@ de 22 anos y genero M aprobo 0 materias y 5 materias por finales\n",
      "El alumn@ de 24 anos y genero M aprobo 4 materias y 1 materias por finales\n",
      "El alumn@ de 18 anos y genero M aprobo 1 materias y 4 materias por finales\n",
      "El alumn@ de 18 anos y genero M aprobo 0 materias y 5 materias por finales\n",
      "El alumn@ de 29 anos y genero F aprobo 2 materias y 3 materias por finales\n",
      "El alumn@ de 28 anos y genero M aprobo 4 materias y 1 materias por finales\n",
      "El alumn@ de 24 anos y genero M aprobo 4 materias y 1 materias por finales\n",
      "El promedio de edad de los varones es 21.875000\n",
      "La cantidad de alumnos que aprobaron mas de 3 finales fue de 9\n",
      "Hay 40.000000% de alumnos y 60.000004% de alumnas\n",
      "Promedio de materias aprobadas de forma regular 2.250000"
     ]
    }
   ],
   "source": [
    "#include <stdio.h>\n",
    "#include <stdlib.h>\n",
    "#include <time.h>\n",
    "\n",
    "#define alumnos 20\n",
    "\n",
    "int main(){\n",
    "    int e, ma, maf;\n",
    "    char g;\n",
    "    int i, cf = 0;\n",
    "    float pa = 0, ev = 0, pmr = 0;\n",
    "    srand(time(NULL));\n",
    "    \n",
    "    for (i = 0; i < alumnos; i++){\n",
    "        e = (rand() % 13) + 17;\n",
    "        ma = rand() % 6;\n",
    "        maf = 5 - ma;\n",
    "        if ((rand() % 2) == 0){\n",
    "            g = 'M';\n",
    "        }\n",
    "        else {g = 'F';}\n",
    "        printf(\"El alumn@ de %d anos y genero %c aprobo %d materias y %d materias por finales\\n\", e, g, ma, maf);\n",
    "    \n",
    "        if (g == 'M'){\n",
    "            ev += e;\n",
    "            pa += 1;\n",
    "        }\n",
    "        if (maf > 3){\n",
    "            cf += 1;\n",
    "        }\n",
    "        pmr += ma;\n",
    "    }\n",
    "    printf(\"El promedio de edad de los varones es %f\\n\", ev/pa);\n",
    "    printf(\"La cantidad de alumnos que aprobaron mas de 3 finales fue de %d\\n\", cf);\n",
    "    printf(\"Hay %f%% de alumnos y %f%% de alumnas\\n\", (pa/alumnos)*100, ((alumnos - pa)/alumnos) * 100);\n",
    "    printf(\"Promedio de materias aprobadas de forma regular %f\", pmr/(alumnos));\n",
    "}"
   ]
  },
  {
   "cell_type": "markdown",
   "metadata": {},
   "source": [
    "### Datos de alumnos v2"
   ]
  },
  {
   "cell_type": "code",
   "execution_count": 21,
   "metadata": {},
   "outputs": [
    {
     "name": "stdout",
     "output_type": "stream",
     "text": [
      "El alumn@ de 25 anos y genero M aprobo 3 materias y 2 materias por finales\n",
      "El alumn@ de 27 anos y genero M aprobo 5 materias y 0 materias por finales\n",
      "El alumn@ de 22 anos y genero F aprobo 2 materias y 3 materias por finales\n",
      "El alumn@ de 27 anos y genero M aprobo 0 materias y 5 materias por finales\n",
      "El alumn@ de 21 anos y genero F aprobo 3 materias y 2 materias por finales\n",
      "El alumn@ de 25 anos y genero F aprobo 5 materias y 0 materias por finales\n",
      "El alumn@ de 25 anos y genero F aprobo 2 materias y 3 materias por finales\n",
      "El alumn@ de 20 anos y genero M aprobo 2 materias y 3 materias por finales\n",
      "El alumn@ de 25 anos y genero M aprobo 5 materias y 0 materias por finales\n",
      "El alumn@ de 19 anos y genero F aprobo 4 materias y 1 materias por finales\n",
      "El alumn@ de 27 anos y genero M aprobo 4 materias y 1 materias por finales\n",
      "El alumn@ de 20 anos y genero F aprobo 5 materias y 0 materias por finales\n",
      "El alumn@ de 29 anos y genero F aprobo 0 materias y 5 materias por finales\n",
      "El alumn@ de 28 anos y genero F aprobo 3 materias y 2 materias por finales\n",
      "El alumn@ de 17 anos y genero M aprobo 2 materias y 3 materias por finales\n",
      "El alumn@ de 29 anos y genero M aprobo 1 materias y 4 materias por finales\n",
      "El alumn@ de 27 anos y genero M aprobo 5 materias y 0 materias por finales\n",
      "El alumn@ de 25 anos y genero M aprobo 2 materias y 3 materias por finales\n",
      "El alumn@ de 26 anos y genero F aprobo 0 materias y 5 materias por finales\n",
      "El alumn@ de 28 anos y genero F aprobo 0 materias y 5 materias por finales\n",
      "La cantidad de alumnos que aprobaron mas de 3 finales fue de 5\n",
      "47.000000% de materias aprobadas en finales \n",
      "26.333334 Promedio de edad de varones que no aprobaron por finales"
     ]
    }
   ],
   "source": [
    "#include <stdio.h>\n",
    "#include <stdlib.h>\n",
    "#include <time.h>\n",
    "\n",
    "#define alumnos 20\n",
    "\n",
    "int main(){\n",
    "    int e, ma, maf;\n",
    "    char g;\n",
    "    int i, cf = 0;\n",
    "    float cfa = 0, pe = 0, ce = 0, cft = 0;\n",
    "    srand(time(NULL));\n",
    "    \n",
    "    for (i = 0; i < alumnos; i++){\n",
    "        e = (rand() % 13) + 17;\n",
    "        ma = rand() % 6;\n",
    "        maf = 5 - ma;\n",
    "        if ((rand() % 2) == 0){\n",
    "            g = 'M';\n",
    "        }\n",
    "        else {g = 'F';}\n",
    "        printf(\"El alumn@ de %d anos y genero %c aprobo %d materias y %d materias por finales\\n\", e, g, ma, maf);\n",
    "\n",
    "        if (maf > 3 ){\n",
    "            cf += 1;\n",
    "        }\n",
    "        if (maf >= 1){\n",
    "            cfa += maf;\n",
    "        }\n",
    "        if (maf == 0 && g == 'M'){\n",
    "            pe += e; ce += 1;\n",
    "        }\n",
    "    }\n",
    "    printf(\"La cantidad de alumnos que aprobaron mas de 3 finales fue de %d\\n\", cf);\n",
    "    printf(\"%f%% de materias aprobadas en finales \\n\", (cfa / (alumnos * 5))*100);\n",
    "    printf(\"%f Promedio de edad de varones que no aprobaron por finales\", pe/ce);\n",
    "}"
   ]
  },
  {
   "cell_type": "code",
   "execution_count": null,
   "metadata": {},
   "outputs": [],
   "source": []
  }
 ],
 "metadata": {
  "kernelspec": {
   "display_name": "C",
   "language": "c",
   "name": "c"
  },
  "language_info": {
   "file_extension": ".c",
   "mimetype": "text/plain",
   "name": "text/x-csrc"
  }
 },
 "nbformat": 4,
 "nbformat_minor": 4
}
