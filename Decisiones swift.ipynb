{
 "cells": [
  {
   "cell_type": "markdown",
   "metadata": {},
   "source": [
    "### Que dia es?"
   ]
  },
  {
   "cell_type": "code",
   "execution_count": 1,
   "metadata": {},
   "outputs": [
    {
     "name": "stdout",
     "output_type": "stream",
     "text": [
      "Ingrese un numero del 1 al 7: \t4\n",
      "Es el dia Jueves"
     ]
    }
   ],
   "source": [
    "#include <stdio.h>\n",
    "\n",
    "int main() {\n",
    "    int d = 0;\n",
    "    \n",
    "    printf(\"Ingrese un numero del 1 al 7: \\t\");\n",
    "    scanf(\"%d\", &d);\n",
    "    \n",
    "    if (d == 1) {\n",
    "        printf(\"Es el dia Lunes\");\n",
    "    }\n",
    "    else if (d == 2) {\n",
    "        printf(\"Es el dia Martes\");\n",
    "    }\n",
    "    else if (d == 3) {\n",
    "        printf(\"Es el dia Miercoles\");\n",
    "    }\n",
    "    else if (d == 4) {\n",
    "        printf(\"Es el dia Jueves\");\n",
    "    }\n",
    "    else if (d == 5) {\n",
    "        printf(\"Es el dia Viernes\");\n",
    "    }\n",
    "    else if (d == 6) {\n",
    "        printf(\"Es el dia Sabado\");\n",
    "    }\n",
    "    else if (d == 7) {\n",
    "        printf(\"Es el dia Domingo\");\n",
    "    }\n",
    "    else {\n",
    "        printf(\"%d no es un dia de la semana\", d);\n",
    "    }\n",
    "    \n",
    "}"
   ]
  },
  {
   "cell_type": "markdown",
   "metadata": {},
   "source": [
    "### Que dia es hoy? Switch"
   ]
  },
  {
   "cell_type": "code",
   "execution_count": 2,
   "metadata": {},
   "outputs": [
    {
     "name": "stdout",
     "output_type": "stream",
     "text": [
      "Ingrese un numero del 1 al 7: \t7\n",
      "Hoy es Domingo"
     ]
    }
   ],
   "source": [
    "#include <stdio.h>\n",
    "\n",
    "int main() {\n",
    "    int d = 0;\n",
    "    \n",
    "    printf(\"Ingrese un numero del 1 al 7: \\t\");\n",
    "    scanf(\"%d\", &d);\n",
    "    \n",
    "    switch (d) {\n",
    "        case 1:\n",
    "            printf(\"Hoy es Lunes\");\n",
    "            break;\n",
    "            \n",
    "        case 2:\n",
    "            printf(\"Hoy es Martes\");\n",
    "            break;\n",
    "            \n",
    "        case 3:\n",
    "            printf(\"Hoy es Miercoles\");\n",
    "            break;\n",
    "            \n",
    "        case 4:\n",
    "            printf(\"Hoy es Jueves\");\n",
    "            break;\n",
    "            \n",
    "        case 5:\n",
    "            printf(\"Hoy es Viernes\");\n",
    "            break;\n",
    "            \n",
    "        case 6:\n",
    "            printf(\"Hoy es Sabado\");\n",
    "            break;\n",
    "            \n",
    "        case 7:\n",
    "            printf(\"Hoy es Domingo\");\n",
    "            break;\n",
    "            \n",
    "        default:\n",
    "            printf(\"%d no es un dia de la semana\", d);\n",
    "            break;\n",
    "    }\n",
    "}"
   ]
  },
  {
   "cell_type": "markdown",
   "metadata": {},
   "source": [
    "### Vocal o consonante?"
   ]
  },
  {
   "cell_type": "code",
   "execution_count": 3,
   "metadata": {},
   "outputs": [
    {
     "name": "stdout",
     "output_type": "stream",
     "text": [
      "Ingrese una letra: \tE\n",
      "E es una vocal"
     ]
    }
   ],
   "source": [
    "#include <stdio.h>\n",
    "\n",
    "int main() {\n",
    "    char c = 0;\n",
    "    printf(\"Ingrese una letra: \\t\");\n",
    "    scanf(\"%c\", &c);\n",
    "    \n",
    "    switch (c) {\n",
    "        case 'a': case 'A':\n",
    "            printf(\"%c es una vocal\", c);\n",
    "            break;\n",
    "        case 'e': case 'E':\n",
    "            printf(\"%c es una vocal\", c);\n",
    "            break;\n",
    "        case 'i': case 'I':\n",
    "            printf(\"%c es una vocal\", c);\n",
    "            break;\n",
    "        case 'o': case 'O':\n",
    "            printf(\"%c es una vocal\", c);\n",
    "            break;\n",
    "        case 'u': case 'U':\n",
    "            printf(\"%c es una vocal\", c);\n",
    "            break;\n",
    "        default:\n",
    "            printf(\"%c es una consonante\", c);\n",
    "    }\n",
    "}"
   ]
  },
  {
   "cell_type": "markdown",
   "metadata": {},
   "source": [
    "### Calculo variado"
   ]
  },
  {
   "cell_type": "code",
   "execution_count": 4,
   "metadata": {},
   "outputs": [
    {
     "name": "stdout",
     "output_type": "stream",
     "text": [
      "Ingrese la base: \t5\n",
      "Ingrese la altura: \t5\n",
      "De las siguientes opciones, ingrese el numero que desee calcular\n",
      "- Area del rectangulo = 1 \n",
      "- Perimetro del rectangulo = 2 \n",
      "- Area del triangulo = 3 \n",
      "- Area de un paralelogramo = 4\n",
      "3\n",
      "El area del triangulo es 12.500000"
     ]
    }
   ],
   "source": [
    "#include <stdio.h>\n",
    "\n",
    "int main() {\n",
    "    int b = 0;\n",
    "    int h = 0;\n",
    "    int c = 0;\n",
    "    \n",
    "    printf(\"Ingrese la base: \\t\");\n",
    "    scanf(\"%d\", &b);\n",
    "    printf(\"Ingrese la altura: \\t\");\n",
    "    scanf(\"%d\", &h);\n",
    "    \n",
    "    printf(\"De las siguientes opciones, ingrese el numero que desee calcular\\n\");\n",
    "    printf(\"- Area del rectangulo = 1 \\n\");\n",
    "    printf(\"- Perimetro del rectangulo = 2 \\n\");\n",
    "    printf(\"- Area del triangulo = 3 \\n\");\n",
    "    printf(\"- Area de un paralelogramo = 4\\n\");\n",
    "    scanf(\"%d\", &c);\n",
    "    \n",
    "    switch (c){\n",
    "        case 1:\n",
    "            printf(\"El area del rectangulo es %d\", b*h);\n",
    "            break;\n",
    "        case 2:\n",
    "            printf(\"El perimetro del rectangulo es %d\", (2*b)+(2*h));\n",
    "            break;\n",
    "        case 3:\n",
    "            printf(\"El area del triangulo es %f\", (b*h)/2.0);\n",
    "            break;\n",
    "        case 4:\n",
    "            printf(\"El area del paralelogramo es %d\", b*h);\n",
    "            break;\n",
    "        default:\n",
    "            printf(\"Opcion no valida\");\n",
    "            break;\n",
    "    }\n",
    "}"
   ]
  },
  {
   "cell_type": "code",
   "execution_count": null,
   "metadata": {},
   "outputs": [],
   "source": []
  }
 ],
 "metadata": {
  "kernelspec": {
   "display_name": "C",
   "language": "c",
   "name": "c"
  },
  "language_info": {
   "file_extension": ".c",
   "mimetype": "text/plain",
   "name": "text/x-csrc"
  }
 },
 "nbformat": 4,
 "nbformat_minor": 4
}
