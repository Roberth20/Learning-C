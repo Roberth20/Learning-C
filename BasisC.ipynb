{
 "cells": [
  {
   "cell_type": "code",
   "execution_count": 1,
   "id": "d8ccc98c-8f6b-48a2-850b-5c96c5920dfb",
   "metadata": {},
   "outputs": [
    {
     "name": "stdout",
     "output_type": "stream",
     "text": [
      "some output\n"
     ]
    }
   ],
   "source": [
    "#include <iostream>\n",
    "\n",
    "std::cout << \"some output\" << std::endl;"
   ]
  },
  {
   "cell_type": "code",
   "execution_count": 2,
   "id": "eb90e6f3-5198-4700-ba7e-f66367cf3f47",
   "metadata": {},
   "outputs": [
    {
     "name": "stderr",
     "output_type": "stream",
     "text": [
      "some error\n"
     ]
    }
   ],
   "source": [
    "std::cerr << \"some error\" << std::endl;"
   ]
  },
  {
   "cell_type": "code",
   "execution_count": 3,
   "id": "ac623fb5-50ce-457b-9d1e-d54c4045352f",
   "metadata": {},
   "outputs": [],
   "source": [
    "#include <stdexcept>"
   ]
  },
  {
   "cell_type": "code",
   "execution_count": 4,
   "id": "18d8c10d-f65a-4edb-b434-27c27a16034f",
   "metadata": {},
   "outputs": [
    {
     "ename": "Standard Exception",
     "evalue": "Unknown Exception",
     "output_type": "error",
     "traceback": [
      "Standard Exception: Unknown Exception"
     ]
    }
   ],
   "source": [
    "throw std::runtime_error(\"Unknown Exception\");"
   ]
  },
  {
   "cell_type": "code",
   "execution_count": 7,
   "id": "6053cc62-7e03-4a4a-8103-0b1e53a0a477",
   "metadata": {},
   "outputs": [
    {
     "data": {
      "text/html": [
       "<style>\n",
       "            #pager-container {\n",
       "                padding: 0;\n",
       "                margin: 0;\n",
       "                width: 100%;\n",
       "                height: 100%;\n",
       "            }\n",
       "            .xcpp-iframe-pager {\n",
       "                padding: 0;\n",
       "                margin: 0;\n",
       "                width: 100%;\n",
       "                height: 100%;\n",
       "                border: none;\n",
       "            }\n",
       "            </style>\n",
       "            <iframe class=\"xcpp-iframe-pager\" src=\"https://en.cppreference.com/w/cpp/container/vector?action=purge\"></iframe>"
      ],
      "text/plain": [
       "https://en.cppreference.com/w/cpp/container/vector"
      ]
     },
     "metadata": {},
     "output_type": "display_data"
    }
   ],
   "source": [
    "?std::vector"
   ]
  },
  {
   "cell_type": "code",
   "execution_count": null,
   "id": "8c64d7d1-d8af-44b3-a3c3-8b4989cef7eb",
   "metadata": {},
   "outputs": [],
   "source": []
  }
 ],
 "metadata": {
  "kernelspec": {
   "display_name": "C++14",
   "language": "C++14",
   "name": "xcpp14"
  },
  "language_info": {
   "codemirror_mode": "text/x-c++src",
   "file_extension": ".cpp",
   "mimetype": "text/x-c++src",
   "name": "c++",
   "version": "14"
  }
 },
 "nbformat": 4,
 "nbformat_minor": 5
}
