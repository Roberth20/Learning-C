{
 "cells": [
  {
   "cell_type": "markdown",
   "metadata": {},
   "source": [
    "### Promedio de 100 numeros aleatorios"
   ]
  },
  {
   "cell_type": "code",
   "execution_count": 2,
   "metadata": {},
   "outputs": [
    {
     "name": "stdout",
     "output_type": "stream",
     "text": [
      "El promedio del vector es 77.870003"
     ]
    }
   ],
   "source": [
    "#include <stdio.h>\n",
    "#include <stdlib.h>\n",
    "#include <time.h>\n",
    "#define N 100\n",
    "\n",
    "int main(){\n",
    "    int i;\n",
    "    int V[N];\n",
    "    float p = 0;\n",
    "    srand(time(NULL));\n",
    "    \n",
    "    for (i = 0; i < N; i++){\n",
    "        V[i] = rand() % 150;\n",
    "        p += V[i];\n",
    "    }\n",
    "    printf(\"El promedio del vector es %f\", p/N);    \n",
    "}"
   ]
  },
  {
   "cell_type": "markdown",
   "metadata": {},
   "source": [
    "### Maximos y minimos"
   ]
  },
  {
   "cell_type": "code",
   "execution_count": 3,
   "metadata": {},
   "outputs": [
    {
     "name": "stdout",
     "output_type": "stream",
     "text": [
      "El numero menor del vector es 4 y el mayor 145"
     ]
    }
   ],
   "source": [
    "#include <stdio.h>\n",
    "#include <stdlib.h>\n",
    "#include <time.h>\n",
    "#define N 100\n",
    "\n",
    "int main(){\n",
    "    int i;\n",
    "    int V[N];\n",
    "    int m = 99999, M = -9999;\n",
    "    srand(time(NULL));\n",
    "    \n",
    "    for (i = 0; i < N; i++){\n",
    "        V[i] = rand() % 150;\n",
    "        if (V[i] < m){\n",
    "            m = V[i];\n",
    "        }\n",
    "        else if (V[i] > M){\n",
    "            M = V[i];\n",
    "        }\n",
    "    }\n",
    "    printf(\"El numero menor del vector es %d y el mayor %d\", m, M);    \n",
    "}"
   ]
  },
  {
   "cell_type": "markdown",
   "metadata": {},
   "source": [
    "### Operaciones en vector"
   ]
  },
  {
   "cell_type": "code",
   "execution_count": 5,
   "metadata": {},
   "outputs": [
    {
     "name": "stdout",
     "output_type": "stream",
     "text": [
      "El numero menor del vector es 0 y el mayor 148\n",
      "La suma de los valores es 7718.000000 y el promedio 77.180000"
     ]
    }
   ],
   "source": [
    "#include <stdio.h>\n",
    "#include <stdlib.h>\n",
    "#include <time.h>\n",
    "#define N 100\n",
    "\n",
    "int main(){\n",
    "    int i;\n",
    "    int V[N];\n",
    "    int m = 99999, M = -9999;\n",
    "    float p = 0;\n",
    "    srand(time(NULL));\n",
    "    \n",
    "    for (i = 0; i < N; i++){\n",
    "        V[i] = rand() % 150;\n",
    "        p += V[i];\n",
    "        if (V[i] < m){\n",
    "            m = V[i];\n",
    "        }\n",
    "        else if (V[i] > M){\n",
    "            M = V[i];\n",
    "        }\n",
    "    }\n",
    "    printf(\"El numero menor del vector es %d y el mayor %d\\n\", m, M); \n",
    "    printf(\"La suma de los valores es %f y el promedio %f\", p, p/N);\n",
    "}"
   ]
  },
  {
   "cell_type": "markdown",
   "metadata": {},
   "source": [
    "### Promedio de dos vectores"
   ]
  },
  {
   "cell_type": "code",
   "execution_count": 8,
   "metadata": {},
   "outputs": [
    {
     "name": "stdout",
     "output_type": "stream",
     "text": [
      "El promedio de un vector es 76.400002\n",
      "Y del otro vector es 59.410000"
     ]
    }
   ],
   "source": [
    "#include <stdio.h>\n",
    "#include <stdlib.h>\n",
    "#include <time.h>\n",
    "#define N 100\n",
    "\n",
    "int main(){\n",
    "    int i;\n",
    "    int V[N];\n",
    "    int W[N];\n",
    "    float p = 0, q = 0;\n",
    "    srand(time(NULL));\n",
    "    \n",
    "    for (i = 0; i < N; i++){\n",
    "        V[i] = rand() % 150;\n",
    "        W[i] = rand() % 125;\n",
    "        p += V[i];\n",
    "        q += W[i];\n",
    "    }\n",
    "    printf(\"El promedio de un vector es %f\\n\", p/N);  \n",
    "    printf(\"Y del otro vector es %f\", q/N);\n",
    "}"
   ]
  },
  {
   "cell_type": "markdown",
   "metadata": {},
   "source": [
    "### Vector par y vector impar"
   ]
  },
  {
   "cell_type": "code",
   "execution_count": 12,
   "metadata": {},
   "outputs": [
    {
     "name": "stdout",
     "output_type": "stream",
     "text": [
      "Integrante del vector par 2\n",
      "Integrante del vector impar 5\n",
      "Integrante del vector impar 9\n",
      "Integrante del vector impar 1\n",
      "Integrante del vector par 4\n",
      "Integrante del vector impar 1\n",
      "Integrante del vector impar 9\n",
      "Integrante del vector impar 3\n",
      "Integrante del vector impar 7\n",
      "Integrante del vector par 8\n",
      "Integrante del vector impar 5\n",
      "Integrante del vector impar 9\n",
      "Integrante del vector impar 5\n",
      "Integrante del vector par 4\n",
      "Integrante del vector impar 5\n",
      "Integrante del vector par 2\n",
      "Integrante del vector par 4\n",
      "Integrante del vector impar 9\n",
      "Integrante del vector impar 5\n",
      "Integrante del vector impar 1\n",
      "Integrante del vector impar 9\n",
      "Integrante del vector impar 9\n",
      "Integrante del vector par 2\n",
      "Integrante del vector impar 7\n",
      "Integrante del vector impar 7\n",
      "Integrante del vector impar 5\n",
      "Integrante del vector impar 1\n",
      "Integrante del vector impar 7\n",
      "Integrante del vector impar 5\n",
      "Integrante del vector impar 9\n",
      "Integrante del vector impar 7\n",
      "Integrante del vector impar 7\n",
      "Integrante del vector par 4\n",
      "Integrante del vector impar 7\n",
      "Integrante del vector impar 5\n",
      "Integrante del vector impar 7\n",
      "Integrante del vector impar 5\n",
      "Integrante del vector par 2\n",
      "Integrante del vector impar 7\n",
      "Integrante del vector par 2\n",
      "Integrante del vector impar 1\n",
      "Integrante del vector impar 9\n",
      "Integrante del vector par 8\n",
      "Integrante del vector impar 3\n",
      "Integrante del vector impar 3\n",
      "Integrante del vector par 4\n",
      "Integrante del vector impar 5\n",
      "Integrante del vector par 4\n",
      "Integrante del vector impar 1\n",
      "Integrante del vector impar 9\n",
      "Integrante del vector par 4\n",
      "Integrante del vector impar 7\n",
      "Integrante del vector par 6\n",
      "Integrante del vector par 6\n",
      "Integrante del vector impar 5\n",
      "Integrante del vector par 2\n",
      "Integrante del vector par 8\n",
      "Integrante del vector impar 3\n",
      "Integrante del vector par 6\n",
      "Integrante del vector impar 3\n",
      "Integrante del vector par 2\n",
      "Integrante del vector impar 3\n",
      "Integrante del vector impar 7\n",
      "Integrante del vector impar 3\n",
      "Integrante del vector impar 7\n",
      "Integrante del vector impar 3\n",
      "Integrante del vector impar 7\n",
      "Integrante del vector impar 3\n",
      "Integrante del vector par 4\n",
      "Integrante del vector impar 5\n",
      "Integrante del vector par 2\n",
      "Integrante del vector par 2\n",
      "Integrante del vector par 4\n",
      "Integrante del vector par 8\n",
      "Integrante del vector impar 5\n",
      "Integrante del vector impar 5\n",
      "Integrante del vector par 2\n",
      "Integrante del vector impar 7\n",
      "Integrante del vector par 8\n",
      "Integrante del vector impar 9\n",
      "Integrante del vector par 4\n",
      "Integrante del vector impar 3\n",
      "Integrante del vector impar 7\n",
      "Integrante del vector par 8\n",
      "Integrante del vector par 6\n",
      "Integrante del vector impar 9\n",
      "Integrante del vector impar 9\n",
      "Integrante del vector par 4\n",
      "Integrante del vector par 2\n",
      "Integrante del vector impar 3\n",
      "Integrante del vector par 4\n",
      "Integrante del vector par 2\n",
      "Integrante del vector impar 5\n",
      "Integrante del vector par 2\n",
      "Integrante del vector par 2\n",
      "Integrante del vector impar 3\n",
      "Integrante del vector par 2\n",
      "Integrante del vector impar 9\n",
      "Integrante del vector impar 3\n",
      "Integrante del vector impar 5\n"
     ]
    }
   ],
   "source": [
    "#include <stdio.h>\n",
    "#include <stdlib.h>\n",
    "#include <time.h>\n",
    "#define N 100\n",
    "\n",
    "int main(){\n",
    "    int i;\n",
    "    int P[N] = {0};\n",
    "    int I[N] = {0};\n",
    "    int n = 0;\n",
    "    srand(time(NULL));\n",
    "    \n",
    "    for (i = 0; i < N; i++){\n",
    "        n = (rand() % 9) + 1;\n",
    "        if (n % 2 == 0){\n",
    "            P[i] = n;\n",
    "            printf(\"Integrante del vector par %d\\n\", P[i]);\n",
    "        }\n",
    "        else {\n",
    "            I[i] = n;\n",
    "            printf(\"Integrante del vector impar %d\\n\", I[i]);\n",
    "        }\n",
    "        \n",
    "    }\n",
    "}"
   ]
  },
  {
   "cell_type": "markdown",
   "metadata": {},
   "source": [
    "### Posicion y numeros pares e impares"
   ]
  },
  {
   "cell_type": "code",
   "execution_count": 13,
   "metadata": {},
   "outputs": [
    {
     "name": "stdout",
     "output_type": "stream",
     "text": [
      "V[0] = 74\n",
      "V[1] = 21\tV[2] = 76\n",
      "V[3] = 89\tV[4] = 6\n",
      "V[5] = 63\tV[6] = 32\n",
      "V[7] = 37\tV[8] = 54\n",
      "V[9] = 61\tV[10] = 76\n",
      "V[11] = 5\tV[12] = 68\n",
      "V[13] = 41\tV[14] = 44\n",
      "V[15] = 57\tV[16] = 16\n",
      "V[17] = 97\tV[18] = 72\n",
      "V[19] = 51\tV[20] = 0\n",
      "V[21] = 59\tV[22] = 10\n",
      "V[23] = 41\tV[24] = 94\n",
      "V[25] = 7\tV[26] = 28\n",
      "V[27] = 45\tV[28] = 6\n",
      "V[29] = 3\tV[30] = 14\n",
      "V[31] = 83\tV[32] = 26\n",
      "V[33] = 91\tV[34] = 74\n",
      "V[35] = 33\tV[36] = 58\n",
      "V[37] = 7\tV[38] = 68\n",
      "V[39] = 13\tV[40] = 66\n",
      "V[41] = 51\tV[42] = 20\n",
      "V[43] = 41\tV[44] = 94\n",
      "V[45] = 65\tV[46] = 96\n",
      "V[47] = 13\tV[48] = 64\n",
      "V[49] = 71\tV[50] = 66\n",
      "V[51] = 69\tV[52] = 28\n",
      "V[53] = 77\tV[54] = 8\n",
      "V[55] = 25\tV[56] = 82\n",
      "V[57] = 41\tV[58] = 72\n",
      "V[59] = 95\tV[60] = 42\n",
      "V[61] = 87\tV[62] = 80\n",
      "V[63] = 73\tV[64] = 80\n",
      "V[65] = 59\tV[66] = 4\n",
      "V[67] = 43\tV[68] = 64\n",
      "V[69] = 77\tV[70] = 58\n",
      "V[71] = 35\tV[72] = 26\n",
      "V[73] = 79\tV[74] = 74\n",
      "V[75] = 27\tV[76] = 46\n",
      "V[77] = 77\tV[78] = 38\n",
      "V[79] = 11\tV[80] = 50\n",
      "V[81] = 5\tV[82] = 78\n",
      "V[83] = 79\tV[84] = 84\n",
      "V[85] = 91\tV[86] = 6\n",
      "V[87] = 73\tV[88] = 30\n",
      "V[89] = 79\tV[90] = 66\n",
      "V[91] = 77\tV[92] = 68\n",
      "V[93] = 51\tV[94] = 48\n",
      "V[95] = 55\tV[96] = 8\n",
      "V[97] = 53\tV[98] = 96\n",
      "V[99] = 73\t"
     ]
    }
   ],
   "source": [
    "#include <stdio.h>\n",
    "#include <stdlib.h>\n",
    "#include <time.h>\n",
    "#define N 100\n",
    "\n",
    "int main(){\n",
    "    int i;\n",
    "    int V[N] = {0};\n",
    "    int n = 0;\n",
    "    srand(time(NULL));\n",
    "    \n",
    "    for (i = 0; i < N; i++){\n",
    "        if (i % 2 == 0){\n",
    "            V[i] = (rand() % 50) * 2;\n",
    "            printf(\"V[%d] = %d\\n\", i, V[i]);\n",
    "        }\n",
    "        else {\n",
    "            V[i] = ((rand() % 50) * 2) + 1;\n",
    "            printf(\"V[%d] = %d\\t\", i, V[i]);\n",
    "        }\n",
    "        \n",
    "    }\n",
    "}"
   ]
  },
  {
   "cell_type": "markdown",
   "metadata": {},
   "source": [
    "### Cantidad de positivos, negativos y ceros"
   ]
  },
  {
   "cell_type": "code",
   "execution_count": 14,
   "metadata": {},
   "outputs": [
    {
     "name": "stdout",
     "output_type": "stream",
     "text": [
      "Hay 22 positivos, 26 negativos y 2 ceros"
     ]
    }
   ],
   "source": [
    "#include <stdio.h>\n",
    "#include <stdlib.h>\n",
    "#include <time.h>\n",
    "#define N 50\n",
    "\n",
    "int main(){\n",
    "    int i;\n",
    "    int V[N] = {0};\n",
    "    int nn = 0, np = 0, nc = 0;\n",
    "    srand(time(NULL));\n",
    "    \n",
    "    for (i = 0; i < N; i++){\n",
    "        V[i] = (rand() % 20) - 10;\n",
    "        if (V[i] < 0){\n",
    "            nn++;\n",
    "        }\n",
    "        else if (V[i] > 0){\n",
    "            np++;\n",
    "        }\n",
    "        else {\n",
    "            nc++;\n",
    "        }\n",
    "    }\n",
    "    printf(\"Hay %d positivos, %d negativos y %d ceros\", np, nn, nc);\n",
    "}"
   ]
  },
  {
   "cell_type": "markdown",
   "metadata": {},
   "source": [
    "### Suma de impares"
   ]
  },
  {
   "cell_type": "code",
   "execution_count": 18,
   "metadata": {},
   "outputs": [
    {
     "name": "stdout",
     "output_type": "stream",
     "text": [
      "V[1] = 8\n",
      "V[3] = 19\n",
      "V[5] = 0\n",
      "V[7] = 19\n",
      "V[9] = 8\n",
      "V[11] = 4\n",
      "V[13] = 12\n",
      "V[15] = 18\n",
      "V[17] = 7\n",
      "V[19] = 7\n",
      "V[21] = 6\n",
      "V[23] = 3\n",
      "V[25] = 14\n",
      "V[27] = 13\n",
      "V[29] = 11\n",
      "V[31] = 10\n",
      "V[33] = 12\n",
      "V[35] = 3\n",
      "V[37] = 7\n",
      "V[39] = 6\n",
      "V[41] = 2\n",
      "V[43] = 8\n",
      "V[45] = 12\n",
      "V[47] = 19\n",
      "V[49] = 6\n",
      "La suma de las posiciones impares es 234"
     ]
    }
   ],
   "source": [
    "#include <stdio.h>\n",
    "#include <stdlib.h>\n",
    "#include <time.h>\n",
    "#define N 50\n",
    "\n",
    "int main(){\n",
    "    int i;\n",
    "    int V[N] = {0};\n",
    "    int s = 0; \n",
    "    srand(time(NULL));\n",
    "    \n",
    "    for (i = 0; i < N; i++){\n",
    "        V[i] = (rand() % 20);\n",
    "        if (!(i % 2 == 0)){\n",
    "            printf(\"V[%d] = %d\\n\", i, V[i]);\n",
    "            s += V[i];\n",
    "        }\n",
    "    }\n",
    "    printf(\"La suma de las posiciones impares es %d\", s);\n",
    "}"
   ]
  },
  {
   "cell_type": "markdown",
   "metadata": {},
   "source": [
    "### Frecuencia de edades"
   ]
  },
  {
   "cell_type": "code",
   "execution_count": 24,
   "metadata": {},
   "outputs": [
    {
     "name": "stdout",
     "output_type": "stream",
     "text": [
      "La edad repetida con mas frecuencia es 17 con 47 repeticiones"
     ]
    }
   ],
   "source": [
    "#include <stdio.h>\n",
    "#include <stdlib.h>\n",
    "#include <time.h>\n",
    "#define N 1000\n",
    "\n",
    "int main(){\n",
    "    int i, e;\n",
    "    int Mf = -9999, Mi = 0;\n",
    "    int F[101] = {0};\n",
    "    srand(time(NULL));\n",
    "    \n",
    "    for (i = 0; i < 1000; i++){\n",
    "        e = (rand() % 100) + 1;\n",
    "        F[e]++;\n",
    "    }\n",
    "    for (i = 0; i < 100; i++){\n",
    "        if (F[i] > Mf){\n",
    "            Mf = F[i];\n",
    "            Mi = i;\n",
    "        }\n",
    "    }\n",
    "    printf(\"La edad repetida con mas frecuencia es %d con %d repeticiones\", Mf, Mi);\n",
    "}"
   ]
  },
  {
   "cell_type": "markdown",
   "metadata": {},
   "source": [
    "### Numero capicua"
   ]
  },
  {
   "cell_type": "code",
   "execution_count": 33,
   "metadata": {},
   "outputs": [
    {
     "name": "stdout",
     "output_type": "stream",
     "text": [
      "Ingrese un numero de 3 cifras: \t123\n",
      "El numero 123 no es capicua"
     ]
    }
   ],
   "source": [
    "#include <stdio.h>\n",
    "#include <stdlib.h>\n",
    "#include <time.h>\n",
    "\n",
    "int main(){\n",
    "    int i;\n",
    "    unsigned int n;\n",
    "    \n",
    "    printf(\"Ingrese un numero de 3 cifras: \\t\");\n",
    "    scanf(\"%d\", &n);\n",
    "    \n",
    "    if (n < 100){\n",
    "        printf(\"Numero no valido.\");\n",
    "    }\n",
    "    else if (n > 999){\n",
    "        printf(\"Numero no valido.\");\n",
    "    }\n",
    "    else {\n",
    "        int V[3] = {n/100, n % 100 / 10, n % 10};\n",
    "        if (V[0] == V[2]){\n",
    "            printf(\"El numero %d es capicua\", n);\n",
    "        } \n",
    "        else {\n",
    "            printf(\"El numero %d no es capicua\", n);\n",
    "        }\n",
    "    }\n",
    "}"
   ]
  },
  {
   "cell_type": "markdown",
   "metadata": {},
   "source": [
    "### El mas repetido "
   ]
  },
  {
   "cell_type": "code",
   "execution_count": 44,
   "metadata": {},
   "outputs": [
    {
     "name": "stdout",
     "output_type": "stream",
     "text": [
      "El numero que salio mas veces fue 2 con 111 repeticiones"
     ]
    }
   ],
   "source": [
    "#include <stdio.h>\n",
    "#include <stdlib.h>\n",
    "#include <time.h>\n",
    "#define N 1000\n",
    "\n",
    "int main(){\n",
    "    int i, n;\n",
    "    int Mf = -9999, Mi = 0;\n",
    "    int F[10] = {0};\n",
    "    srand(time(NULL));\n",
    "    \n",
    "    for (i = 0; i < 1000; i++){\n",
    "        n = (rand() % 10) + 1;\n",
    "        F[n-1]++;\n",
    "    }\n",
    "    for (i = 0; i < 10; i++){\n",
    "        if (F[i] > Mf){\n",
    "            Mf = F[i];\n",
    "            Mi = i;\n",
    "        }\n",
    "    }\n",
    "    printf(\"El numero que salio mas veces fue %d con %d repeticiones\", Mi + 1, Mf);\n",
    "}"
   ]
  },
  {
   "cell_type": "markdown",
   "metadata": {},
   "source": [
    "### El mas y menos repetido"
   ]
  },
  {
   "cell_type": "code",
   "execution_count": 49,
   "metadata": {},
   "outputs": [
    {
     "name": "stdout",
     "output_type": "stream",
     "text": [
      "El numero que salio mas veces fue 8 con 118 repeticiones\n",
      "El numero que salio menos veces fue 4 con 85 repeticiones\n"
     ]
    }
   ],
   "source": [
    "#include <stdio.h>\n",
    "#include <stdlib.h>\n",
    "#include <time.h>\n",
    "#define N 1000\n",
    "\n",
    "int main(){\n",
    "    int i, n;\n",
    "    int Mf = -9999, Mi = 0;\n",
    "    int mf = 9999, mi = 0;\n",
    "    int F[10] = {0};\n",
    "    srand(time(NULL));\n",
    "    \n",
    "    for (i = 0; i < 1000; i++){\n",
    "        n = (rand() % 10) + 1;\n",
    "        F[n-1]++;\n",
    "    }\n",
    "    for (i = 0; i < 10; i++){\n",
    "        if (F[i] > Mf){\n",
    "            Mf = F[i];\n",
    "            Mi = i;\n",
    "        }\n",
    "        if(F[i] < mf){\n",
    "            mf = F[i];\n",
    "            mi = i;\n",
    "        }\n",
    "    }\n",
    "    printf(\"El numero que salio mas veces fue %d con %d repeticiones\\n\", Mi + 1, Mf);\n",
    "    printf(\"El numero que salio menos veces fue %d con %d repeticiones\\n\", mi + 1, mf);\n",
    "}"
   ]
  },
  {
   "cell_type": "markdown",
   "metadata": {},
   "source": [
    "### Frecuencia de numeros "
   ]
  },
  {
   "cell_type": "code",
   "execution_count": 50,
   "metadata": {},
   "outputs": [
    {
     "name": "stdout",
     "output_type": "stream",
     "text": [
      "El numero 1 salio 105 veces\n",
      "El numero 2 salio 103 veces\n",
      "El numero 3 salio 97 veces\n",
      "El numero 4 salio 109 veces\n",
      "El numero 5 salio 93 veces\n",
      "El numero 6 salio 86 veces\n",
      "El numero 7 salio 88 veces\n",
      "El numero 8 salio 108 veces\n",
      "El numero 9 salio 99 veces\n",
      "El numero 10 salio 112 veces\n",
      "El numero que salio mas veces fue 10 con 112 repeticiones\n",
      "El numero que salio menos veces fue 6 con 86 repeticiones\n"
     ]
    }
   ],
   "source": [
    "#include <stdio.h>\n",
    "#include <stdlib.h>\n",
    "#include <time.h>\n",
    "#define N 1000\n",
    "\n",
    "int main(){\n",
    "    int i, n;\n",
    "    int Mf = -9999, Mi = 0;\n",
    "    int mf = 9999, mi = 0;\n",
    "    int F[10] = {0};\n",
    "    srand(time(NULL));\n",
    "    \n",
    "    for (i = 0; i < 1000; i++){\n",
    "        n = (rand() % 10) + 1;\n",
    "        F[n-1]++;\n",
    "    }\n",
    "    for (i = 0; i < 10; i++){\n",
    "        if (F[i] > 0){\n",
    "            printf(\"El numero %d salio %d veces\\n\", i+1, F[i]);\n",
    "            }\n",
    "        if (F[i] > Mf){\n",
    "            Mf = F[i];\n",
    "            Mi = i;\n",
    "        }\n",
    "        if(F[i] < mf){\n",
    "            mf = F[i];\n",
    "            mi = i;\n",
    "        }\n",
    "    }\n",
    "    printf(\"El numero que salio mas veces fue %d con %d repeticiones\\n\", Mi + 1, Mf);\n",
    "    printf(\"El numero que salio menos veces fue %d con %d repeticiones\\n\", mi + 1, mf);\n",
    "}"
   ]
  },
  {
   "cell_type": "markdown",
   "metadata": {},
   "source": [
    "### Dias de la semana"
   ]
  },
  {
   "cell_type": "code",
   "execution_count": 55,
   "metadata": {},
   "outputs": [
    {
     "name": "stdout",
     "output_type": "stream",
     "text": [
      "Ingrese un numero de la semana:\t2\n",
      "Lunes"
     ]
    }
   ],
   "source": [
    "#include <stdio.h>\n",
    "#include <stdlib.h>\n",
    "\n",
    "int main(){\n",
    "    int n;\n",
    "    char dias[7][10] = {\"Domingo\", \"Lunes\", \"Martes\", \"Miercoles\", \"Jueves\", \"Viernes\", \"Sabado\"};\n",
    "    \n",
    "    printf(\"Ingrese un numero de la semana:\\t\");\n",
    "    scanf(\"%d\", &n);\n",
    "    \n",
    "    if (n > 0 && n < 8){\n",
    "        printf(\"%s\", dias[n-1]);\n",
    "    }\n",
    "    else {\n",
    "        printf(\"Numero no valido.\");\n",
    "    }\n",
    "}"
   ]
  },
  {
   "cell_type": "markdown",
   "metadata": {},
   "source": [
    "### Dias del mes"
   ]
  },
  {
   "cell_type": "code",
   "execution_count": 58,
   "metadata": {},
   "outputs": [
    {
     "name": "stdout",
     "output_type": "stream",
     "text": [
      "Ingrese un numero del mes:\t27\n",
      "Viernes"
     ]
    }
   ],
   "source": [
    "#include <stdio.h>\n",
    "#include <stdlib.h>\n",
    "\n",
    "int main(){\n",
    "    int n;\n",
    "    char dias[7][10] = {\"Domingo\", \"Lunes\", \"Martes\", \"Miercoles\", \"Jueves\", \"Viernes\", \"Sabado\"};\n",
    "    \n",
    "    printf(\"Ingrese un numero del mes:\\t\");\n",
    "    scanf(\"%d\", &n);\n",
    "    \n",
    "    if (n > 0 && n < 32){\n",
    "        if (n < 8){\n",
    "            printf(\"%s\", dias[n-1]);\n",
    "        }\n",
    "        else if (n < 15){\n",
    "            printf(\"%s\", dias[n-8]);\n",
    "        }\n",
    "        else if (n < 22){\n",
    "            printf(\"%s\", dias[n-15]);\n",
    "        }\n",
    "        else if (n < 29){\n",
    "            printf(\"%s\", dias[n-22]);\n",
    "        }\n",
    "        else if (n < 32){\n",
    "            printf(\"%s\", dias[n-29]);\n",
    "        }\n",
    "    }\n",
    "    else {\n",
    "        printf(\"Numero no valido.\");\n",
    "    }\n",
    "}"
   ]
  },
  {
   "cell_type": "markdown",
   "metadata": {},
   "source": [
    "### Vectores paralelos"
   ]
  },
  {
   "cell_type": "code",
   "execution_count": 66,
   "metadata": {},
   "outputs": [
    {
     "name": "stdout",
     "output_type": "stream",
     "text": [
      "La letra b tiene companero 8\n",
      "La letra r tiene companero 7\n",
      "La letra g tiene companero 6\n",
      "La letra u tiene companero 7\n",
      "La letra g tiene companero 9\n",
      "La letra j tiene companero 7\n"
     ]
    }
   ],
   "source": [
    "#include <stdio.h>\n",
    "#include <stdlib.h>\n",
    "#include <time.h>\n",
    "#define N 10\n",
    "\n",
    "int main(){\n",
    "    int i;\n",
    "    int m = 5;\n",
    "    int n[N] = {}, l[N] = {};\n",
    "    srand(time(NULL));\n",
    "    \n",
    "    for (i = 0; i < N; i++){\n",
    "        n[i] = (rand() % 10) + 1;\n",
    "        l[i] = (rand() % 26) + 97;\n",
    "        if (n[i] > 5){\n",
    "            printf(\"La letra %c tiene companero %d\\n\", l[i], n[i]);\n",
    "    \n",
    "        }\n",
    "    }\n",
    "}"
   ]
  },
  {
   "cell_type": "markdown",
   "metadata": {},
   "source": [
    "### Vector paralelo impar"
   ]
  },
  {
   "cell_type": "code",
   "execution_count": 68,
   "metadata": {},
   "outputs": [
    {
     "name": "stdout",
     "output_type": "stream",
     "text": [
      "La letra y tiene companero 3\n",
      "La letra b tiene companero 3\n",
      "La letra n tiene companero 1\n",
      "La letra u tiene companero 1\n",
      "La letra h tiene companero 5\n"
     ]
    }
   ],
   "source": [
    "#include <stdio.h>\n",
    "#include <stdlib.h>\n",
    "#include <time.h>\n",
    "#define N 10\n",
    "\n",
    "int main(){\n",
    "    int i;\n",
    "    int m = 5;\n",
    "    int n[N] = {}, l[N] = {};\n",
    "    srand(time(NULL));\n",
    "    \n",
    "    for (i = 0; i < N; i++){\n",
    "        n[i] = (rand() % 10) + 1;\n",
    "        l[i] = (rand() % 26) + 97;\n",
    "        if (!(n[i] % 2 == 0)){\n",
    "            printf(\"La letra %c tiene companero %d\\n\", l[i], n[i]);\n",
    "    \n",
    "        }\n",
    "    }\n",
    "}"
   ]
  },
  {
   "cell_type": "markdown",
   "metadata": {},
   "source": [
    "### Peso y edad de animales"
   ]
  },
  {
   "cell_type": "code",
   "execution_count": 2,
   "metadata": {},
   "outputs": [
    {
     "name": "stdout",
     "output_type": "stream",
     "text": [
      "Ingrese la edad del animal: \t12\n",
      "Ingrese el peso del animal (Kg): \t42\n",
      "Ingrese la edad del animal: \t10\n",
      "Ingrese el peso del animal (Kg): \t50\n",
      "Ingrese la edad del animal: \t8\n",
      "Ingrese el peso del animal (Kg): \t10\n",
      "Ingrese la edad del animal: \t6\n",
      "Ingrese el peso del animal (Kg): \t5\n",
      "Ingrese la edad del animal: \t11\n",
      "Ingrese el peso del animal (Kg): \t5\n",
      "Ingrese la edad del animal: \t7\n",
      "Ingrese el peso del animal (Kg): \t26\n",
      "Ingrese la edad del animal: \t10\n",
      "Ingrese el peso del animal (Kg): \t10\n",
      "Ingrese la edad del animal: \t10\n",
      "Ingrese el peso del animal (Kg): \t10\n",
      "Ingrese la edad del animal: \t10\n",
      "Ingrese el peso del animal (Kg): \t10\n",
      "Ingrese la edad del animal: \t10\n",
      "Ingrese el peso del animal (Kg): \t10\n",
      "El animal tiene 12 anos de edad y pesa 42.000000 Kg\n",
      "El animal tiene 10 anos de edad y pesa 50.000000 Kg\n",
      "El animal tiene 8 anos de edad y pesa 10.000000 Kg\n",
      "El animal tiene 6 anos de edad y pesa 5.000000 Kg\n",
      "El animal tiene 11 anos de edad y pesa 5.000000 Kg\n",
      "El animal tiene 7 anos de edad y pesa 26.000000 Kg\n",
      "El animal tiene 10 anos de edad y pesa 10.000000 Kg\n",
      "El animal tiene 10 anos de edad y pesa 10.000000 Kg\n",
      "El animal tiene 10 anos de edad y pesa 10.000000 Kg\n",
      "El animal tiene 10 anos de edad y pesa 10.000000 Kg\n",
      "El animal mas liviano tiene una edad de 6\n",
      "El animal mas pesado tiene una edad de 10"
     ]
    }
   ],
   "source": [
    "#include <stdio.h>\n",
    "#include <stdlib.h>\n",
    "#define N 10\n",
    "\n",
    "int main(){\n",
    "    int i;\n",
    "    float al = 9999, ap = -9999;\n",
    "    int il = 0, ip = 0;\n",
    "    int e[N] = {}; \n",
    "    float p[N] = {};\n",
    "    \n",
    "    for (i = 0; i < N; i++){\n",
    "        printf(\"Ingrese la edad del animal: \\t\");\n",
    "        scanf(\"%d\", &e[i]);\n",
    "        printf(\"Ingrese el peso del animal (Kg): \\t\");\n",
    "        scanf(\"%f\", &p[i]);\n",
    "    }\n",
    "    for (i = 0; i < N; i++){\n",
    "        printf(\"El animal tiene %d anos de edad y pesa %f Kg\\n\", e[i], p[i]);\n",
    "        if (p[i] < al){\n",
    "            al = p[i];\n",
    "            il = i;\n",
    "        }\n",
    "        if (p[i] > ap){\n",
    "            ap = p[i];\n",
    "            ip = i;\n",
    "        }\n",
    "    }\n",
    "    printf(\"El animal mas liviano tiene una edad de %d\\n\", e[il]);\n",
    "    printf(\"El animal mas pesado tiene una edad de %d\", e[ip]);\n",
    "}"
   ]
  },
  {
   "cell_type": "code",
   "execution_count": null,
   "metadata": {},
   "outputs": [],
   "source": []
  }
 ],
 "metadata": {
  "kernelspec": {
   "display_name": "C",
   "language": "c",
   "name": "c"
  },
  "language_info": {
   "file_extension": ".c",
   "mimetype": "text/plain",
   "name": "text/x-csrc"
  }
 },
 "nbformat": 4,
 "nbformat_minor": 4
}
