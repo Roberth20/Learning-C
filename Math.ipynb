{
 "cells": [
  {
   "cell_type": "markdown",
   "metadata": {},
   "source": [
    "### x cubo"
   ]
  },
  {
   "cell_type": "code",
   "execution_count": 1,
   "metadata": {},
   "outputs": [
    {
     "name": "stderr",
     "output_type": "stream",
     "text": [
      "/tmp/tmpw2rfb0du.c: In function ‘main’:\n",
      "/tmp/tmpw2rfb0du.c:9:22: error: ‘M_PI’ undeclared (first use in this function); did you mean ‘__P’?\n",
      "     for (i = 0; i <= M_PI; i += 0.5){\n",
      "                      ^~~~\n",
      "                      __P\n",
      "/tmp/tmpw2rfb0du.c:9:22: note: each undeclared identifier is reported only once for each function it appears in\n",
      "[C kernel] GCC exited with code 1, the executable will not be executed"
     ]
    }
   ],
   "source": [
    "#include <stdio.h>\n",
    "#include <stdlib.h>\n",
    "#include <math.h>\n",
    "#define _USE_MATH_DEFINES\n",
    "\n",
    "int main(){\n",
    "    float i;\n",
    "    \n",
    "    for (i = 0; i <= M_PI; i += 0.5){\n",
    "        printf(\"f(x) = x^3 = %f\\n\", pow(i, 3));\n",
    "    }\n",
    "}"
   ]
  },
  {
   "cell_type": "markdown",
   "metadata": {},
   "source": [
    "### Raiz cuadrada"
   ]
  },
  {
   "cell_type": "code",
   "execution_count": 2,
   "metadata": {},
   "outputs": [
    {
     "name": "stderr",
     "output_type": "stream",
     "text": [
      "/tmp/tmpnrkimdxg.c: In function ‘main’:\n",
      "/tmp/tmpnrkimdxg.c:9:22: error: ‘M_PI’ undeclared (first use in this function); did you mean ‘__P’?\n",
      "     for (i = 0; i <= M_PI; i += 0.5){\n",
      "                      ^~~~\n",
      "                      __P\n",
      "/tmp/tmpnrkimdxg.c:9:22: note: each undeclared identifier is reported only once for each function it appears in\n",
      "[C kernel] GCC exited with code 1, the executable will not be executed"
     ]
    }
   ],
   "source": [
    "#include <stdio.h>\n",
    "#include <stdlib.h>\n",
    "#include <math.h>\n",
    "#define _USE_MATH_DEFINES\n",
    "\n",
    "int main(){\n",
    "    float i;\n",
    "    \n",
    "    for (i = 0; i <= M_PI; i += 0.5){\n",
    "        printf(\"f(x) = sqrt(x) = %f\\n\", sqrt(i));\n",
    "    }\n",
    "}"
   ]
  },
  {
   "cell_type": "markdown",
   "metadata": {},
   "source": [
    "### seno de x"
   ]
  },
  {
   "cell_type": "code",
   "execution_count": 3,
   "metadata": {},
   "outputs": [
    {
     "name": "stderr",
     "output_type": "stream",
     "text": [
      "/tmp/tmpjsufyapv.c: In function ‘main’:\n",
      "/tmp/tmpjsufyapv.c:9:22: error: ‘M_PI’ undeclared (first use in this function); did you mean ‘__P’?\n",
      "     for (i = 0; i <= M_PI; i += 0.5){\n",
      "                      ^~~~\n",
      "                      __P\n",
      "/tmp/tmpjsufyapv.c:9:22: note: each undeclared identifier is reported only once for each function it appears in\n",
      "[C kernel] GCC exited with code 1, the executable will not be executed"
     ]
    }
   ],
   "source": [
    "#include <stdio.h>\n",
    "#include <stdlib.h>\n",
    "#include <math.h>\n",
    "#define _USE_MATH_DEFINES\n",
    "\n",
    "int main(){\n",
    "    float i;\n",
    "    \n",
    "    for (i = 0; i <= M_PI; i += 0.5){\n",
    "        printf(\"f(x) = sin(x) = %f\\n\", sin(i));\n",
    "    }\n",
    "}"
   ]
  },
  {
   "cell_type": "markdown",
   "metadata": {},
   "source": [
    "### arcoseno de x"
   ]
  },
  {
   "cell_type": "code",
   "execution_count": 4,
   "metadata": {},
   "outputs": [
    {
     "name": "stderr",
     "output_type": "stream",
     "text": [
      "/tmp/tmp07lb49og.c: In function ‘main’:\n",
      "/tmp/tmp07lb49og.c:9:22: error: ‘M_PI’ undeclared (first use in this function); did you mean ‘__P’?\n",
      "     for (i = 0; i <= M_PI; i += 0.5){\n",
      "                      ^~~~\n",
      "                      __P\n",
      "/tmp/tmp07lb49og.c:9:22: note: each undeclared identifier is reported only once for each function it appears in\n",
      "[C kernel] GCC exited with code 1, the executable will not be executed"
     ]
    }
   ],
   "source": [
    "#include <stdio.h>\n",
    "#include <stdlib.h>\n",
    "#include <math.h>\n",
    "#define _USE_MATH_DEFINES\n",
    "\n",
    "int main(){\n",
    "    float i;\n",
    "    \n",
    "    for (i = 0; i <= M_PI; i += 0.5){\n",
    "        printf(\"f(x) = acos(x) = %f\\n\", acos(i));\n",
    "    }\n",
    "}"
   ]
  },
  {
   "cell_type": "markdown",
   "metadata": {},
   "source": [
    "### Coseno de x"
   ]
  },
  {
   "cell_type": "code",
   "execution_count": 5,
   "metadata": {},
   "outputs": [
    {
     "name": "stderr",
     "output_type": "stream",
     "text": [
      "/tmp/tmp27wxtomp.c: In function ‘main’:\n",
      "/tmp/tmp27wxtomp.c:9:22: error: ‘M_PI’ undeclared (first use in this function); did you mean ‘__P’?\n",
      "     for (i = 0; i <= M_PI; i += 0.5){\n",
      "                      ^~~~\n",
      "                      __P\n",
      "/tmp/tmp27wxtomp.c:9:22: note: each undeclared identifier is reported only once for each function it appears in\n",
      "[C kernel] GCC exited with code 1, the executable will not be executed"
     ]
    }
   ],
   "source": [
    "#include <stdio.h>\n",
    "#include <stdlib.h>\n",
    "#include <math.h>\n",
    "#define _USE_MATH_DEFINES\n",
    "\n",
    "int main(){\n",
    "    float i;\n",
    "    \n",
    "    for (i = 0; i <= M_PI; i += 0.5){\n",
    "        printf(\"f(x) = cos(x) = %f\\n\", cos(i));\n",
    "    }\n",
    "}"
   ]
  },
  {
   "cell_type": "markdown",
   "metadata": {},
   "source": [
    "### Tangente de x"
   ]
  },
  {
   "cell_type": "code",
   "execution_count": 6,
   "metadata": {},
   "outputs": [
    {
     "name": "stderr",
     "output_type": "stream",
     "text": [
      "/tmp/tmpjiuoojel.c: In function ‘main’:\n",
      "/tmp/tmpjiuoojel.c:9:22: error: ‘M_PI’ undeclared (first use in this function); did you mean ‘__P’?\n",
      "     for (i = 0; i <= M_PI; i += 0.5){\n",
      "                      ^~~~\n",
      "                      __P\n",
      "/tmp/tmpjiuoojel.c:9:22: note: each undeclared identifier is reported only once for each function it appears in\n",
      "[C kernel] GCC exited with code 1, the executable will not be executed"
     ]
    }
   ],
   "source": [
    "#include <stdio.h>\n",
    "#include <stdlib.h>\n",
    "#include <math.h>\n",
    "#define _USE_MATH_DEFINES\n",
    "\n",
    "int main(){\n",
    "    float i;\n",
    "    \n",
    "    for (i = 0; i <= M_PI; i += 0.5){\n",
    "        printf(\"f(x) = tan(x) = %f\\n\", tan(i));\n",
    "    }\n",
    "}"
   ]
  },
  {
   "cell_type": "code",
   "execution_count": null,
   "metadata": {},
   "outputs": [],
   "source": []
  }
 ],
 "metadata": {
  "kernelspec": {
   "display_name": "C",
   "language": "c",
   "name": "c"
  },
  "language_info": {
   "file_extension": ".c",
   "mimetype": "text/plain",
   "name": "text/x-csrc"
  }
 },
 "nbformat": 4,
 "nbformat_minor": 4
}
