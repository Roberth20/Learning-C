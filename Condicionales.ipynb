{
 "cells": [
  {
   "cell_type": "markdown",
   "metadata": {},
   "source": [
    "### Menor de dos numeros"
   ]
  },
  {
   "cell_type": "code",
   "execution_count": 1,
   "metadata": {},
   "outputs": [
    {
     "name": "stdout",
     "output_type": "stream",
     "text": [
      "Ingrese un numero: \t4\n",
      "Ingrese un numero: \t7\n",
      "El numero menor es 4"
     ]
    }
   ],
   "source": [
    "#include <stdio.h>\n",
    "\n",
    "int main(){\n",
    "    int a = 0;\n",
    "    int b = 0;\n",
    "    \n",
    "    printf(\"Ingrese un numero: \\t\");\n",
    "    scanf(\"%d\", &a);\n",
    "    printf(\"Ingrese un numero: \\t\");\n",
    "    scanf(\"%d\", &b);\n",
    "    \n",
    "    if (a > b) {\n",
    "        printf(\"El numero menor es %d\", b);\n",
    "    } else {\n",
    "        printf(\"El numero menor es %d\", a);\n",
    "    }\n",
    "}"
   ]
  },
  {
   "cell_type": "markdown",
   "metadata": {},
   "source": [
    "### Valor absoluto"
   ]
  },
  {
   "cell_type": "code",
   "execution_count": 2,
   "metadata": {},
   "outputs": [
    {
     "name": "stdout",
     "output_type": "stream",
     "text": [
      "Ingrese un numero: \t-5\n",
      "El valor absoluto es 5"
     ]
    }
   ],
   "source": [
    "#include <stdio.h>\n",
    "\n",
    "int main(){\n",
    "    int a = 0;\n",
    "    \n",
    "    printf(\"Ingrese un numero: \\t\");\n",
    "    scanf(\"%d\", &a);\n",
    "    \n",
    "    if (a > 0) {\n",
    "        printf(\"El valor absoluto es %d\", a);\n",
    "    } else {\n",
    "        printf(\"El valor absoluto es %d\", -1 * a);\n",
    "    }\n",
    "}"
   ]
  },
  {
   "cell_type": "markdown",
   "metadata": {},
   "source": [
    "### Se forma hielo?"
   ]
  },
  {
   "cell_type": "code",
   "execution_count": 3,
   "metadata": {},
   "outputs": [
    {
     "name": "stdout",
     "output_type": "stream",
     "text": [
      "Ingrese una temperatura: \t-12\n",
      "El agua si se congela a la temperatura -12 grados"
     ]
    }
   ],
   "source": [
    "#include <stdio.h>\n",
    "\n",
    "int main(){\n",
    "    int t = 0;\n",
    "    \n",
    "    printf(\"Ingrese una temperatura: \\t\");\n",
    "    scanf(\"%d\", &t);\n",
    "    \n",
    "    if (t > 0) {\n",
    "        printf(\"El agua no se congela a la temperatura %d grados\", t);\n",
    "    } else {\n",
    "        printf(\"El agua si se congela a la temperatura %d grados\", t);\n",
    "    }\n",
    "}"
   ]
  },
  {
   "cell_type": "markdown",
   "metadata": {},
   "source": [
    "### Buenos dias o buenas noches"
   ]
  },
  {
   "cell_type": "code",
   "execution_count": 4,
   "metadata": {},
   "outputs": [
    {
     "name": "stdout",
     "output_type": "stream",
     "text": [
      "Ingrese una hora (formato de 24h) \n",
      " sin tomar en cuenta los minutos: \t22\n",
      "Buenas noches!"
     ]
    }
   ],
   "source": [
    "#include <stdio.h>\n",
    "\n",
    "int main(){\n",
    "    int h = 0;\n",
    "    \n",
    "    printf(\"Ingrese una hora (formato de 24h) \\n sin tomar en cuenta los minutos: \\t\");\n",
    "    scanf(\"%d\", &h);\n",
    "    \n",
    "    if (h <= 6 || h >= 21)  {\n",
    "        printf(\"Buenas noches!\");\n",
    "    } else {\n",
    "        printf(\"Buenos dias!\");\n",
    "    }\n",
    "}"
   ]
  },
  {
   "cell_type": "markdown",
   "metadata": {},
   "source": [
    "### Par o impar"
   ]
  },
  {
   "cell_type": "code",
   "execution_count": 6,
   "metadata": {},
   "outputs": [
    {
     "name": "stdout",
     "output_type": "stream",
     "text": [
      "Ingrese un numero \t18\n",
      "18 es un numero par"
     ]
    }
   ],
   "source": [
    "#include <stdio.h>\n",
    "\n",
    "int main(){\n",
    "    int n = 0;\n",
    "    int r = 0;\n",
    "    \n",
    "    printf(\"Ingrese un numero \\t\");\n",
    "    scanf(\"%d\", &n);\n",
    "    \n",
    "    r = n % 2;\n",
    "    \n",
    "    if (r == 0)  {\n",
    "        printf(\"%d es un numero par\", n);\n",
    "    } else {\n",
    "        printf(\"%d es un numero impar\", n);\n",
    "    }\n",
    "}"
   ]
  },
  {
   "cell_type": "markdown",
   "metadata": {},
   "source": [
    "### Siguiente numero par"
   ]
  },
  {
   "cell_type": "code",
   "execution_count": 7,
   "metadata": {},
   "outputs": [
    {
     "name": "stdout",
     "output_type": "stream",
     "text": [
      "Ingrese un numero \t9\n",
      "El numero par que le sigue a 9 es 10"
     ]
    }
   ],
   "source": [
    "#include <stdio.h>\n",
    "\n",
    "int main(){\n",
    "    int n = 0;\n",
    "    int r = 0;\n",
    "    \n",
    "    printf(\"Ingrese un numero \\t\");\n",
    "    scanf(\"%d\", &n);\n",
    "    \n",
    "    r = n % 2;\n",
    "    \n",
    "    if (r == 0)  {\n",
    "        printf(\"El numero par que le sigue a %d es %d\", n, n + 2);\n",
    "    } else {\n",
    "        printf(\"El numero par que le sigue a %d es %d\", n, n + 1);\n",
    "    }\n",
    "}"
   ]
  },
  {
   "cell_type": "code",
   "execution_count": null,
   "metadata": {},
   "outputs": [],
   "source": []
  }
 ],
 "metadata": {
  "kernelspec": {
   "display_name": "C",
   "language": "c",
   "name": "c"
  },
  "language_info": {
   "file_extension": ".c",
   "mimetype": "text/plain",
   "name": "text/x-csrc"
  }
 },
 "nbformat": 4,
 "nbformat_minor": 4
}
