{
 "cells": [
  {
   "cell_type": "markdown",
   "metadata": {},
   "source": [
    "### Numeros del 1 al 10"
   ]
  },
  {
   "cell_type": "code",
   "execution_count": 1,
   "metadata": {},
   "outputs": [
    {
     "name": "stdout",
     "output_type": "stream",
     "text": [
      "1\n",
      "2\n",
      "3\n",
      "4\n",
      "5\n",
      "6\n",
      "7\n",
      "8\n",
      "9\n",
      "10\n"
     ]
    }
   ],
   "source": [
    "#include <stdio.h>\n",
    "\n",
    "int main(){\n",
    "    int i;\n",
    "    \n",
    "    for (i = 1; i <= 10; i++){\n",
    "        printf(\"%d\\n\", i);\n",
    "    }\n",
    "}"
   ]
  },
  {
   "cell_type": "markdown",
   "metadata": {},
   "source": [
    "### Numeros del 10 al 1"
   ]
  },
  {
   "cell_type": "code",
   "execution_count": 2,
   "metadata": {},
   "outputs": [
    {
     "name": "stdout",
     "output_type": "stream",
     "text": [
      "10\n",
      "9\n",
      "8\n",
      "7\n",
      "6\n",
      "5\n",
      "4\n",
      "3\n",
      "2\n",
      "1\n"
     ]
    }
   ],
   "source": [
    "#include <stdio.h>\n",
    "\n",
    "int main(){\n",
    "    int i;\n",
    "    \n",
    "    for (i = 10; i >= 1; i--){\n",
    "        printf(\"%d\\n\", i);\n",
    "    }\n",
    "}"
   ]
  },
  {
   "cell_type": "markdown",
   "metadata": {},
   "source": [
    "### Rango de numeros"
   ]
  },
  {
   "cell_type": "code",
   "execution_count": 3,
   "metadata": {},
   "outputs": [
    {
     "name": "stdout",
     "output_type": "stream",
     "text": [
      "Ingrese un numero entero: \t2\n",
      "Ingrese un numero entero: \t6\n",
      "2\n",
      "3\n",
      "4\n",
      "5\n",
      "6\n"
     ]
    }
   ],
   "source": [
    "#include <stdio.h>\n",
    "\n",
    "int main(){\n",
    "    int a = 0;\n",
    "    int b = 0;\n",
    "    int i;\n",
    "    \n",
    "    printf(\"Ingrese un numero entero: \\t\");\n",
    "    scanf(\"%d\", &a);\n",
    "    printf(\"Ingrese un numero entero: \\t\");\n",
    "    scanf(\"%d\", &b);\n",
    "    \n",
    "    if (a < b) {\n",
    "        for (i = a; i <= b; i++){\n",
    "            printf(\"%d\\n\", i);\n",
    "        }\n",
    "    }\n",
    "    else {\n",
    "        for (i = b; i <= a; i++){\n",
    "            printf(\"%d\\n\", i);\n",
    "        }\n",
    "    }\n",
    "}"
   ]
  },
  {
   "cell_type": "markdown",
   "metadata": {},
   "source": [
    "### Rango de numeros con salto ajustado"
   ]
  },
  {
   "cell_type": "code",
   "execution_count": 4,
   "metadata": {},
   "outputs": [
    {
     "name": "stdout",
     "output_type": "stream",
     "text": [
      "Ingrese un numero real: \t-2\n",
      "Ingrese un numero real: \t2\n",
      "-2.000000\n",
      "-1.500000\n",
      "-1.000000\n",
      "-0.500000\n",
      "0.000000\n",
      "0.500000\n",
      "1.000000\n",
      "1.500000\n",
      "2.000000\n"
     ]
    }
   ],
   "source": [
    "#include <stdio.h>\n",
    "\n",
    "int main(){\n",
    "    float a = 0;\n",
    "    float b = 0;\n",
    "    float i;\n",
    "    \n",
    "    printf(\"Ingrese un numero real: \\t\");\n",
    "    scanf(\"%f\", &a);\n",
    "    printf(\"Ingrese un numero real: \\t\");\n",
    "    scanf(\"%f\", &b);\n",
    "    \n",
    "    if (a < b) {\n",
    "        for (i = a; i <= b; i += 0.5){\n",
    "            printf(\"%f\\n\", i);\n",
    "        }\n",
    "    }\n",
    "    else {\n",
    "        for (i = b; i <= a; i += 0.5){\n",
    "            printf(\"%f\\n\", i);\n",
    "        }\n",
    "    }\n",
    "}"
   ]
  },
  {
   "cell_type": "markdown",
   "metadata": {},
   "source": [
    "### Tablas de multiplicar"
   ]
  },
  {
   "cell_type": "code",
   "execution_count": 5,
   "metadata": {},
   "outputs": [
    {
     "name": "stdout",
     "output_type": "stream",
     "text": [
      "Ingrese la tabla de multiplicar a mostrar: \t7\n",
      "7 x 0 = 0 \n",
      "7 x 1 = 7 \n",
      "7 x 2 = 14 \n",
      "7 x 3 = 21 \n",
      "7 x 4 = 28 \n",
      "7 x 5 = 35 \n",
      "7 x 6 = 42 \n",
      "7 x 7 = 49 \n",
      "7 x 8 = 56 \n",
      "7 x 9 = 63 \n",
      "7 x 10 = 70 \n"
     ]
    }
   ],
   "source": [
    "#include <stdio.h>\n",
    "\n",
    "int main() {\n",
    "    int t = 0;\n",
    "    int i;\n",
    "    \n",
    "    printf(\"Ingrese la tabla de multiplicar a mostrar: \\t\");\n",
    "    scanf(\"%d\", &t);\n",
    "    \n",
    "    for (i = 0; i <= 10; i++){\n",
    "        printf(\"%d x %d = %d \\n\", t, i, t*i);\n",
    "    }\n",
    "}"
   ]
  },
  {
   "cell_type": "markdown",
   "metadata": {},
   "source": [
    "### Multiplos de 3"
   ]
  },
  {
   "cell_type": "code",
   "execution_count": 6,
   "metadata": {},
   "outputs": [
    {
     "name": "stdout",
     "output_type": "stream",
     "text": [
      "Los multiplos de 3, comprendidos entre [3, 100] son: \n",
      "3 - 6 - 9 - 12 - 15 - 18 - 21 - 24 - 27 - 30 - 33 - 36 - 39 - 42 - 45 - 48 - 51 - 54 - 57 - 60 - 63 - 66 - 69 - 72 - 75 - 78 - 81 - 84 - 87 - 90 - 93 - 96 - 99 - "
     ]
    }
   ],
   "source": [
    "#include <stdio.h>\n",
    "\n",
    "int main(){\n",
    "    int i = 0;\n",
    "    \n",
    "    printf(\"Los multiplos de 3, comprendidos entre [3, 100] son: \\n\");\n",
    "    for (i = 3; i <= 100; i += 3){\n",
    "        printf(\"%d - \", i);\n",
    "    }\n",
    "}"
   ]
  },
  {
   "cell_type": "markdown",
   "metadata": {},
   "source": [
    "### Areas para un terreno\n",
    "\n",
    "Con lados [100 - 2x] y [x]"
   ]
  },
  {
   "cell_type": "code",
   "execution_count": 7,
   "metadata": {},
   "outputs": [
    {
     "name": "stdout",
     "output_type": "stream",
     "text": [
      "Las areas del terreno son:\n",
      "(80, 10) = 800\n",
      "(78, 11) = 858\n",
      "(76, 12) = 912\n",
      "(74, 13) = 962\n",
      "(72, 14) = 1008\n",
      "(70, 15) = 1050\n",
      "(68, 16) = 1088\n",
      "(66, 17) = 1122\n",
      "(64, 18) = 1152\n",
      "(62, 19) = 1178\n",
      "(60, 20) = 1200\n",
      "(58, 21) = 1218\n",
      "(56, 22) = 1232\n",
      "(54, 23) = 1242\n",
      "(52, 24) = 1248\n",
      "(50, 25) = 1250\n",
      "(48, 26) = 1248\n",
      "(46, 27) = 1242\n",
      "(44, 28) = 1232\n",
      "(42, 29) = 1218\n",
      "(40, 30) = 1200\n"
     ]
    }
   ],
   "source": [
    "#include <stdio.h>\n",
    "\n",
    "int main() {\n",
    "    int x = 0;\n",
    "    \n",
    "    printf(\"Las areas del terreno son:\\n\");\n",
    "    \n",
    "    for (x = 10; x <= 30; x++){\n",
    "        printf(\"(%d, %d) = %d\\n\", 100 - (2*x), x, (100 - (2*x))*x);\n",
    "    }\n",
    "}"
   ]
  },
  {
   "cell_type": "markdown",
   "metadata": {},
   "source": [
    "### Piramide"
   ]
  },
  {
   "cell_type": "code",
   "execution_count": 8,
   "metadata": {},
   "outputs": [
    {
     "name": "stdout",
     "output_type": "stream",
     "text": [
      "Ingrese la altura de la piramide: \t10\n",
      "           *\n",
      "          ***\n",
      "         *****\n",
      "        *******\n",
      "       *********\n",
      "      ***********\n",
      "     *************\n",
      "    ***************\n",
      "   *****************\n",
      "  *******************\n",
      " *********************\n"
     ]
    }
   ],
   "source": [
    "#include <stdio.h>\n",
    "\n",
    "int main(){\n",
    "    int i = 0;\n",
    "    int j = 0;\n",
    "    int h = 0;\n",
    "    \n",
    "    printf(\"Ingrese la altura de la piramide: \\t\");\n",
    "    scanf(\"%d\", &h);\n",
    "    \n",
    "    for (i = 0; i <= h; i++){\n",
    "        for (j = h - i; j >= 0; j--){\n",
    "            printf(\" \");\n",
    "        }\n",
    "        for (j = 1; j <= (2*i + 1); j++){\n",
    "            printf(\"*\");\n",
    "        }\n",
    "        printf(\"\\n\");\n",
    "    }\n",
    "}"
   ]
  },
  {
   "cell_type": "code",
   "execution_count": null,
   "metadata": {},
   "outputs": [],
   "source": []
  }
 ],
 "metadata": {
  "kernelspec": {
   "display_name": "C",
   "language": "c",
   "name": "c"
  },
  "language_info": {
   "file_extension": ".c",
   "mimetype": "text/plain",
   "name": "text/x-csrc"
  }
 },
 "nbformat": 4,
 "nbformat_minor": 4
}
