{
 "cells": [
  {
   "cell_type": "markdown",
   "metadata": {},
   "source": [
    "### Menor o igual"
   ]
  },
  {
   "cell_type": "code",
   "execution_count": 1,
   "metadata": {},
   "outputs": [
    {
     "name": "stdout",
     "output_type": "stream",
     "text": [
      "Ingrese un numero natural:\t5\n",
      "Ingrese un numero natural:\t6\n",
      "5 menor que 6"
     ]
    }
   ],
   "source": [
    "#include <stdio.h>\n",
    "\n",
    "int main() {\n",
    "    int a = 0;\n",
    "    int b = 0;\n",
    "    \n",
    "    printf(\"Ingrese un numero natural:\\t\");\n",
    "    scanf(\"%d\", &a);\n",
    "    printf(\"Ingrese un numero natural:\\t\");\n",
    "    scanf(\"%d\", &b);\n",
    "    \n",
    "    if (a < b){\n",
    "        printf(\"%d menor que %d\", a, b);\n",
    "    }\n",
    "    else if (a > b){\n",
    "        printf(\"%d menor que %d\", b, a);\n",
    "    }\n",
    "    else {\n",
    "        printf(\"%d es igual a %d\", a, b);\n",
    "    }\n",
    "}"
   ]
  },
  {
   "cell_type": "markdown",
   "metadata": {},
   "source": [
    "### Mayor de 3 numeros"
   ]
  },
  {
   "cell_type": "code",
   "execution_count": 2,
   "metadata": {},
   "outputs": [
    {
     "name": "stdout",
     "output_type": "stream",
     "text": [
      "Ingrese un numero natural:\t8\n",
      "Ingrese un numero natural:\t6\n",
      "Ingrese un numero natural:\t9\n",
      "El numero mayor es 9"
     ]
    }
   ],
   "source": [
    "#include <stdio.h>\n",
    "\n",
    "int main() {\n",
    "    int a = 0;\n",
    "    int b = 0;\n",
    "    int c = 0;\n",
    "    \n",
    "    printf(\"Ingrese un numero natural:\\t\");\n",
    "    scanf(\"%d\", &a);\n",
    "    printf(\"Ingrese un numero natural:\\t\");\n",
    "    scanf(\"%d\", &b);\n",
    "    printf(\"Ingrese un numero natural:\\t\");\n",
    "    scanf(\"%d\", &c);\n",
    "    \n",
    "    if (a > b && a > c){\n",
    "        printf(\"El numero mayor es %d\", a);\n",
    "    }\n",
    "    else if (b > a && b > c){\n",
    "        printf(\"El numero mayor es %d\", b);\n",
    "    }\n",
    "    else {\n",
    "        printf(\"El numero mayor es %d\", c);\n",
    "    }\n",
    "}"
   ]
  },
  {
   "cell_type": "markdown",
   "metadata": {},
   "source": [
    "### Numero de docena de una ruleta"
   ]
  },
  {
   "cell_type": "code",
   "execution_count": 3,
   "metadata": {},
   "outputs": [
    {
     "name": "stdout",
     "output_type": "stream",
     "text": [
      "Juguemos ruleta! \n",
      "Tu numero 29 es de la tercera docena"
     ]
    }
   ],
   "source": [
    "#include <stdio.h>\n",
    "#include <time.h>\n",
    "#include <stdlib.h>\n",
    "\n",
    "int main(){\n",
    "    int a = 0;\n",
    "    srand(time(NULL));\n",
    "    \n",
    "    printf(\"Juguemos ruleta! \\n\");\n",
    "    \n",
    "    a = rand() % 36 + 1;\n",
    "    \n",
    "    if (a <= 12){\n",
    "        printf(\"Tu numero %d es de la primera docena\", a);\n",
    "    }\n",
    "    else if (a > 12 && a <= 24){\n",
    "        printf(\"Tu numero %d es de la segunda docena\", a);\n",
    "    }\n",
    "    else {\n",
    "        printf(\"Tu numero %d es de la tercera docena\", a);\n",
    "    }\n",
    "}"
   ]
  },
  {
   "cell_type": "markdown",
   "metadata": {},
   "source": [
    "### Par o impar con OR"
   ]
  },
  {
   "cell_type": "code",
   "execution_count": 4,
   "metadata": {},
   "outputs": [
    {
     "name": "stdout",
     "output_type": "stream",
     "text": [
      "Ingrese un numero natural \t8\n",
      "Error"
     ]
    }
   ],
   "source": [
    "#include <stdio.h>\n",
    "\n",
    "int main(){\n",
    "    int a = 0;\n",
    "    \n",
    "    printf(\"Ingrese un numero natural \\t\");\n",
    "    scanf(\"%d\", &a);\n",
    "    \n",
    "    if (a == 2 || a == 4 || a == 6){\n",
    "        printf(\"%d es par\", a);\n",
    "    }\n",
    "    else if (a == 3 || a == 5 || a == 1){\n",
    "        printf(\"%d es impar\", a);\n",
    "    }\n",
    "    else {\n",
    "        printf(\"Error\");\n",
    "    }\n",
    "}"
   ]
  },
  {
   "cell_type": "markdown",
   "metadata": {},
   "source": [
    "### Valido con AND"
   ]
  },
  {
   "cell_type": "code",
   "execution_count": 5,
   "metadata": {},
   "outputs": [
    {
     "name": "stdout",
     "output_type": "stream",
     "text": [
      "Ingrese un numero \t6\n",
      "6.000000 es valido"
     ]
    }
   ],
   "source": [
    "#include <stdio.h>\n",
    "\n",
    "int main() {\n",
    "    float a = 0;\n",
    "    \n",
    "    printf(\"Ingrese un numero \\t\");\n",
    "    scanf(\"%f\", &a);\n",
    "    \n",
    "    if (a >= 0 && a <= 10){\n",
    "        printf(\"%f es valido\", a);\n",
    "    }\n",
    "    else {\n",
    "        printf(\"%f es invalido\", a);\n",
    "    }\n",
    "}"
   ]
  },
  {
   "cell_type": "markdown",
   "metadata": {},
   "source": [
    "### Valido con OR"
   ]
  },
  {
   "cell_type": "code",
   "execution_count": 6,
   "metadata": {},
   "outputs": [
    {
     "name": "stdout",
     "output_type": "stream",
     "text": [
      "Ingrese un numero \t11\n",
      "11.000000 es invalido"
     ]
    }
   ],
   "source": [
    "#include <stdio.h>\n",
    "\n",
    "int main() {\n",
    "    float a = 0;\n",
    "    \n",
    "    printf(\"Ingrese un numero \\t\");\n",
    "    scanf(\"%f\", &a);\n",
    "    \n",
    "    if (a < 0 || a > 10){\n",
    "        printf(\"%f es invalido\", a);\n",
    "    }\n",
    "    else {\n",
    "        printf(\"%f es valido\", a);\n",
    "    }\n",
    "}"
   ]
  },
  {
   "cell_type": "code",
   "execution_count": null,
   "metadata": {},
   "outputs": [],
   "source": []
  }
 ],
 "metadata": {
  "kernelspec": {
   "display_name": "C",
   "language": "c",
   "name": "c"
  },
  "language_info": {
   "file_extension": ".c",
   "mimetype": "text/plain",
   "name": "text/x-csrc"
  }
 },
 "nbformat": 4,
 "nbformat_minor": 4
}
